{
  "cells": [
    {
      "cell_type": "markdown",
      "metadata": {
        "id": "13TtP-Gb_kPQ"
      },
      "source": [
        "#01-data-exploration\n",
        "In this notebook, we will explore the Higgs boson dataset to gain a better understanding of the data and its properties. We will perform some initial data analysis, such as checking for missing values, identifying the distribution of each feature, and visualizing the relationships between different features. This will help us determine any preprocessing steps that may be required before building and training our models."
      ]
    },
    {
      "cell_type": "markdown",
      "metadata": {
        "id": "LMq_MKGd_4T9"
      },
      "source": [
        "#Importing Libraries\n",
        "In this section, we will import the necessary libraries and packages that will be used throughout the notebook."
      ]
    },
    {
      "cell_type": "code",
      "execution_count": null,
      "metadata": {
        "id": "leC2K8kX88e7"
      },
      "outputs": [],
      "source": [
        "import pandas as pd\n",
        "import numpy as np\n",
        "import matplotlib.pyplot as plt\n",
        "import seaborn as sns\n",
        "from sklearn.model_selection import train_test_split\n",
        "from sklearn.preprocessing import StandardScaler"
      ]
    },
    {
      "cell_type": "markdown",
      "metadata": {
        "id": "9dNys35yAcGu"
      },
      "source": [
        "#Loading Data\n",
        "Here, we will load the Higgs boson dataset into a pandas DataFrame and inspect the data to get a better understanding of the data structure and format."
      ]
    },
    {
      "cell_type": "code",
      "execution_count": null,
      "metadata": {
        "id": "ZAnJ2dnDA1uF",
        "outputId": "7c3d7f2f-124f-48af-b497-cc27b899dcfe",
        "colab": {
          "base_uri": "https://localhost:8080/"
        }
      },
      "outputs": [
        {
          "output_type": "stream",
          "name": "stdout",
          "text": [
            "Mounted at /content/drive\n",
            "    0      1      2      3      4      5      6      7          8     9   ...  \\\n",
            "0  1.0  0.869 -0.635  0.226  0.327 -0.690  0.754 -0.249  -1.09E+00  0.00  ...   \n",
            "1  1.0  0.908  0.329  0.359  1.500 -0.313  1.100 -0.558  -1.59E+00  2.17  ...   \n",
            "2  1.0  0.799  1.470 -1.640  0.454  0.426  1.100  1.280   1.38E+00  0.00  ...   \n",
            "3  0.0  1.340 -0.877  0.936  1.990  0.882  1.790 -1.650  -9.42E-01  0.00  ...   \n",
            "4  1.0  1.110  0.321  1.520  0.883 -1.210  0.681 -1.070  -9.22E-01  0.00  ...   \n",
            "\n",
            "       19        20        21     22     23     24     25     26     27     28  \n",
            "0 -0.0105 -0.045800  3.10E+00  1.350  0.980  0.978  0.920  0.722  0.989  0.877  \n",
            "1 -1.1400 -0.000819  0.00E+00  0.302  0.833  0.986  0.978  0.780  0.992  0.798  \n",
            "2  1.1300  0.900000  0.00E+00  0.910  1.110  0.986  0.951  0.803  0.866  0.780  \n",
            "3 -0.6780 -1.360000  0.00E+00  0.947  1.030  0.999  0.728  0.869  1.030  0.958  \n",
            "4 -0.3740  0.113000  0.00E+00  0.756  1.360  0.987  0.838  1.130  0.872  0.808  \n",
            "\n",
            "[5 rows x 29 columns]\n"
          ]
        }
      ],
      "source": [
        "# Mount Google Drive in Colab\n",
        "from google.colab import drive\n",
        "drive.mount('/content/drive')\n",
        "\n",
        "# Load data from Google Drive\n",
        "data_path = '/content/drive/MyDrive/Higgs_dataset/raw/HIGGS_train.csv'\n",
        "df = pd.read_csv(data_path, header=None,low_memory=False)\n",
        "print(df.head())"
      ]
    },
    {
      "cell_type": "markdown",
      "metadata": {
        "id": "DVziei61A3FF"
      },
      "source": [
        "#Exploratory Data Analysis\n",
        "In this section, we will perform exploratory data analysis by visualizing and analyzing the data to identify any patterns, trends, or relationships between different features. We will also identify any potential issues or anomalies in the data."
      ]
    },
    {
      "cell_type": "code",
      "execution_count": null,
      "metadata": {
        "id": "K2OXSVC7BFN6",
        "outputId": "9cbffca9-710f-4451-eea0-14b75addc961",
        "colab": {
          "base_uri": "https://localhost:8080/",
          "height": 1000
        }
      },
      "outputs": [
        {
          "output_type": "stream",
          "name": "stdout",
          "text": [
            "Number of rows and columns:  (600000, 29)\n",
            "         class_label         lep_pt        lep_eta        lep_phi  \\\n",
            "count  600000.000000  600000.000000  600000.000000  600000.000000   \n",
            "mean        0.529287       0.992486      -0.000112       0.000166   \n",
            "std         0.499142       0.565045       1.007858       1.005480   \n",
            "min         0.000000       0.275000      -2.430000      -1.740000   \n",
            "25%         0.000000       0.591000      -0.737000      -0.870000   \n",
            "50%         1.000000       0.854000      -0.001030       0.002640   \n",
            "75%         1.000000       1.240000       0.738000       0.870000   \n",
            "max         1.000000       8.710000       2.430000       1.740000   \n",
            "\n",
            "       miss_energy_mag  miss_energy_phi        jet1_pt       jet1_eta  \\\n",
            "count    600000.000000    600000.000000  600000.000000  600000.000000   \n",
            "mean          0.998019        -0.001156       0.990147      -0.002193   \n",
            "std           0.599282         1.006754       0.474625       1.010296   \n",
            "min           0.000626        -1.740000       0.139000      -2.970000   \n",
            "25%           0.577000        -0.873000       0.679000      -0.689000   \n",
            "50%           0.891000        -0.001920       0.894000      -0.003000   \n",
            "75%           1.290000         0.872000       1.170000       0.685000   \n",
            "max           9.900000         1.740000       8.380000       2.970000   \n",
            "\n",
            "           jet1_btag        jet2_pt  ...        jet4_pt       jet4_eta  \\\n",
            "count  600000.000000  600000.000000  ...  600000.000000  600000.000000   \n",
            "mean        1.000380       0.992593  ...       0.986215      -0.000308   \n",
            "std         1.026463       0.500731  ...       0.505671       1.008151   \n",
            "min         0.000000       0.189000  ...       0.365000      -2.500000   \n",
            "25%         0.000000       0.656000  ...       0.618000      -0.715000   \n",
            "50%         1.090000       0.890000  ...       0.868000      -0.000461   \n",
            "75%         2.170000       1.200000  ...       1.220000       0.715000   \n",
            "max         2.170000      11.600000  ...      11.600000       2.500000   \n",
            "\n",
            "            jet4_phi           m_jj          m_jjj           m_lv  \\\n",
            "count  600000.000000  600000.000000  600000.000000  600000.000000   \n",
            "mean       -0.002128       1.034048       1.024418       1.050635   \n",
            "std         1.005563       0.669431       0.378086       0.164443   \n",
            "min        -1.740000       0.107000       0.245000       0.092200   \n",
            "25%        -0.872000       0.791000       0.846000       0.986000   \n",
            "50%        -0.005810       0.895000       0.950000       0.990000   \n",
            "75%         0.868000       1.020000       1.080000       1.020000   \n",
            "max         1.740000      22.300000      11.600000       5.920000   \n",
            "\n",
            "               m_jlv           m_bb          m_wbb         m_wwbb  \n",
            "count  600000.000000  600000.000000  600000.000000  600000.000000  \n",
            "mean        1.010129       0.973341       1.033155       0.959835  \n",
            "std         0.398453       0.524885       0.364497       0.313073  \n",
            "min         0.157000       0.048100       0.303000       0.351000  \n",
            "25%         0.768000       0.674000       0.819000       0.770000  \n",
            "50%         0.917000       0.873000       0.947000       0.872000  \n",
            "75%         1.140000       1.140000       1.140000       1.060000  \n",
            "max        10.500000      13.700000       8.430000       6.260000  \n",
            "\n",
            "[8 rows x 27 columns]\n"
          ]
        },
        {
          "output_type": "display_data",
          "data": {
            "text/plain": [
              "<Figure size 432x288 with 1 Axes>"
            ],
            "image/png": "[encoded data removed]"
          },
          "metadata": {
            "needs_background": "light"
          }
        },
        {
          "output_type": "display_data",
          "data": {
            "text/plain": [
              "<Figure size 432x288 with 2 Axes>"
            ],
            "image/png": "[encoded data removed]"
          },
          "metadata": {
            "needs_background": "light"
          }
        }
      ],
      "source": [
        "# Assign column names\n",
        "cols = [\"class_label\", \"lep_pt\", \"lep_eta\", \"lep_phi\", \"miss_energy_mag\", \"miss_energy_phi\", \n",
        "        \"jet1_pt\", \"jet1_eta\", \"jet1_phi\", \"jet1_btag\", \"jet2_pt\", \"jet2_eta\", \"jet2_phi\", \n",
        "        \"jet2_btag\", \"jet3_pt\", \"jet3_eta\", \"jet3_phi\", \"jet3_btag\", \"jet4_pt\", \"jet4_eta\", \n",
        "        \"jet4_phi\", \"jet4_btag\", \"m_jj\", \"m_jjj\", \"m_lv\", \"m_jlv\", \"m_bb\", \"m_wbb\", \"m_wwbb\"]\n",
        "df.columns = cols\n",
        "\n",
        "# Print the number of rows and columns in the dataset\n",
        "print(\"Number of rows and columns: \", df.shape)\n",
        "\n",
        "# Print the summary statistics of the dataset\n",
        "print(df.describe())\n",
        "\n",
        "# Plot a count plot of the class label\n",
        "sns.countplot(data=df, x=\"class_label\")\n",
        "plt.show()\n",
        "\n",
        "# Plot a correlation matrix of the features\n",
        "corr = df.corr()\n",
        "sns.heatmap(corr, cmap=\"coolwarm\")\n",
        "plt.show()\n"
      ]
    },
    {
      "cell_type": "markdown",
      "metadata": {
        "id": "0EI4IzxxCo92"
      },
      "source": [
        "#Preprocessing\n",
        "In this section, we will preprocess the data by performing necessary data cleaning, normalization, and feature engineering. We will also split the dataset into training and validation sets for model training and evaluation."
      ]
    },
    {
      "cell_type": "code",
      "execution_count": null,
      "metadata": {
        "id": "Wq5od8xLCsKD",
        "outputId": "65c253c4-45a8-4911-9117-3c7240fcdd10",
        "colab": {
          "base_uri": "https://localhost:8080/"
        }
      },
      "outputs": [
        {
          "output_type": "stream",
          "name": "stdout",
          "text": [
            "class_label        0\n",
            "lep_pt             0\n",
            "lep_eta            0\n",
            "lep_phi            0\n",
            "miss_energy_mag    0\n",
            "miss_energy_phi    0\n",
            "jet1_pt            0\n",
            "jet1_eta           0\n",
            "jet1_phi           1\n",
            "jet1_btag          0\n",
            "jet2_pt            0\n",
            "jet2_eta           0\n",
            "jet2_phi           0\n",
            "jet2_btag          0\n",
            "jet3_pt            0\n",
            "jet3_eta           0\n",
            "jet3_phi           0\n",
            "jet3_btag          0\n",
            "jet4_pt            0\n",
            "jet4_eta           0\n",
            "jet4_phi           0\n",
            "jet4_btag          2\n",
            "m_jj               0\n",
            "m_jjj              0\n",
            "m_lv               0\n",
            "m_jlv              0\n",
            "m_bb               0\n",
            "m_wbb              0\n",
            "m_wwbb             0\n",
            "dtype: int64\n"
          ]
        }
      ],
      "source": [
        "# Check for missing or invalid values\n",
        "print(df.isna().sum())\n",
        "\n",
        "# Replace missing value with mean of the column\n",
        "mean_jet3_btag = df['jet3_btag'].mean()\n",
        "df['jet3_btag'].fillna(mean_jet3_btag, inplace=True)\n",
        "\n",
        "# Convert all string values to float\n",
        "df = df.apply(pd.to_numeric, errors='coerce')\n",
        "\n",
        "#Normalize the dataset\n",
        "scaler = StandardScaler()\n",
        "df_norm = scaler.fit_transform(df)\n",
        "\n",
        "# Split the data into 70% training, 15% validation, and 15% testing\n",
        "train_data, test_data = train_test_split(df, test_size=0.3, random_state=42)\n",
        "val_data, test_data = train_test_split(test_data, test_size=0.5, random_state=42)\n",
        "\n",
        "# Save the data to CSV files\n",
        "train_data.to_csv('train.csv', index=False)\n",
        "val_data.to_csv('validation.csv', index=False)\n",
        "test_data.to_csv('test.csv', index=False)\n",
        "\n"
      ]
    }
  ],
  "metadata": {
    "colab": {
      "provenance": []
    },
    "kernelspec": {
      "display_name": "Python 3",
      "name": "python3"
    },
    "language_info": {
      "name": "python"
    }
  },
  "nbformat": 4,
  "nbformat_minor": 0
}