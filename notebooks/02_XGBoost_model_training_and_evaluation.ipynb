{
  "nbformat": 4,
  "nbformat_minor": 0,
  "metadata": {
    "colab": {
      "provenance": [],
      "authorship_tag": "ABX9TyMy3uJ+mgWSav2KJDpbkle0",
      "include_colab_link": true
    },
    "kernelspec": {
      "name": "python3",
      "display_name": "Python 3"
    },
    "language_info": {
      "name": "python"
    }
  },
  "cells": [
    {
      "cell_type": "markdown",
      "metadata": {
        "id": "view-in-github",
        "colab_type": "text"
      },
      "source": [
        "<a href=\"https://colab.research.google.com/github/YahyaEryani/quantum-model/blob/main/notebooks/02_XGBoost_model_training_and_evaluation.ipynb\" target=\"_parent\"><img src=\"https://colab.research.google.com/assets/colab-badge.svg\" alt=\"Open In Colab\"/></a>"
      ]
    },
    {
      "cell_type": "markdown",
      "source": [
        "# Model Training and Tuning\n",
        "\n",
        " In this notebook, we will train an XGBoost model on the Higgs boson dataset we have preprocessed in the previous notebook `01_data_exploration`. We will perform the model training and tuning process to obtain the best model with the highest accuracy possible."
      ],
      "metadata": {
        "id": "YvYylxXF7j8E"
      }
    },
    {
      "cell_type": "markdown",
      "source": [
        "## Importing Libraries\n",
        "In this section, we will import the necessary libraries and packages that will be used throughout the notebook."
      ],
      "metadata": {
        "id": "qon_QOKl7_QX"
      }
    },
    {
      "cell_type": "code",
      "source": [
        "import pandas as pd\n",
        "import numpy as np\n",
        "import matplotlib.pyplot as plt\n",
        "import seaborn as sns\n",
        "from sklearn.model_selection import train_test_split\n",
        "from sklearn.preprocessing import StandardScaler\n",
        "from xgboost import XGBClassifier\n",
        "import xgboost as xgb\n",
        "from sklearn.metrics import accuracy_score, precision_score,recall_score, f1_score, confusion_matrix, classification_report, roc_auc_score\n",
        "from sklearn.model_selection import GridSearchCV"
      ],
      "metadata": {
        "id": "rZzB5kgo8GXt"
      },
      "execution_count": 1,
      "outputs": []
    },
    {
      "cell_type": "markdown",
      "source": [
        "## Loading Data\n",
        "\n",
        "This code cell loads the training, validation, and test datasets that were saved in CSV format to the local directory."
      ],
      "metadata": {
        "id": "RWCKjwxV9uAp"
      }
    },
    {
      "cell_type": "code",
      "source": [
        "# Mount Google Drive in Colab\n",
        "from google.colab import drive\n",
        "drive.mount('/content/drive')\n",
        "\n",
        "# Load data from Google Drive\n",
        "train_path = '/content/drive/MyDrive/Higgs_dataset/processed/train.csv'\n",
        "val_path   = '/content/drive/MyDrive/Higgs_dataset/processed/validation.csv'\n",
        "test_path  = '/content/drive/MyDrive/Higgs_dataset/processed/test.csv'\n",
        "train_data = pd.read_csv(train_path)\n",
        "val_data = pd.read_csv(val_path)\n",
        "test_data = pd.read_csv(test_path)"
      ],
      "metadata": {
        "colab": {
          "base_uri": "https://localhost:8080/"
        },
        "id": "JiuzIO4s9ue3",
        "outputId": "ae5d0f83-75fd-4b14-9739-fc28d3c6eab2"
      },
      "execution_count": 2,
      "outputs": [
        {
          "output_type": "stream",
          "name": "stdout",
          "text": [
            "Drive already mounted at /content/drive; to attempt to forcibly remount, call drive.mount(\"/content/drive\", force_remount=True).\n"
          ]
        }
      ]
    },
    {
      "cell_type": "markdown",
      "source": [
        "## Prepare the data for training\n",
        "This code separates the features and class labels from the train, validation, and test datasets, and creates DMatrix objects for the XGBoost model to train, validate, and test on."
      ],
      "metadata": {
        "id": "JuUudFupEZVV"
      }
    },
    {
      "cell_type": "code",
      "source": [
        "# Separate features and labels\n",
        "train_labels = train_data['class_label']\n",
        "train_features = train_data.drop('class_label', axis=1)\n",
        "val_labels = val_data['class_label']\n",
        "val_features = val_data.drop('class_label', axis=1)\n",
        "test_labels = test_data['class_label']\n",
        "test_features = test_data.drop('class_label', axis=1)\n",
        "\n",
        "# Convert the data into XGBoost DMatrix format\n",
        "dtrain = xgb.DMatrix(train_features, label=train_labels)\n",
        "dval = xgb.DMatrix(val_features, label=val_labels)\n",
        "dtest = xgb.DMatrix(test_features, label=test_labels)"
      ],
      "metadata": {
        "id": "zor0S8XpDfi_"
      },
      "execution_count": 3,
      "outputs": []
    },
    {
      "cell_type": "markdown",
      "source": [
        "## Train the XGBoost model\n",
        "This code sets the hyperparameters for an XGBoost model, including the maximum depth of trees, learning rate, subsampling rate, and evaluation metric. It then trains the XGBoost model using early stopping and a specified number of rounds."
      ],
      "metadata": {
        "id": "kPtzzAICFpy8"
      }
    },
    {
      "cell_type": "code",
      "source": [
        "# Set the XGBoost parameters\n",
        "params = {\n",
        "    'max_depth': 6,\n",
        "    'eta': 0.3,\n",
        "    'objective': 'binary:logistic',\n",
        "    'eval_metric': 'auc',\n",
        "    'subsample': 0.8,\n",
        "    'colsample_bytree': 0.8,\n",
        "    'seed': 42\n",
        "}\n",
        "\n",
        "# Train the XGBoost model with early stopping\n",
        "num_rounds = 1000\n",
        "watchlist = [(dtrain, 'train'), (dval, 'eval')]\n",
        "xgb_model = xgb.train(params, dtrain, num_rounds, evals=watchlist, early_stopping_rounds=10, verbose_eval=0)"
      ],
      "metadata": {
        "id": "PoJQb4glF0Ic"
      },
      "execution_count": 4,
      "outputs": []
    },
    {
      "cell_type": "markdown",
      "source": [
        "# Model Evaluation\n"
      ],
      "metadata": {
        "id": "ul69fcyFHBMN"
      }
    },
    {
      "cell_type": "markdown",
      "source": [
        "## Make predictions on the test data and evaluate the model performance\n",
        "This code uses the XGBoost model that was previously trained to make predictions on the test data."
      ],
      "metadata": {
        "id": "G5yaeTqRJW0w"
      }
    },
    {
      "cell_type": "code",
      "source": [
        "# Use the XGBoost model to make predictions on the test data\n",
        "test_preds = xgb_model.predict(dtest)\n",
        "\n",
        "# Convert the predicted probabilities to class labels\n",
        "test_preds = [1 if x > 0.5 else 0 for x in test_preds]\n",
        "\n",
        "# Calculate the accuracy of the model on the test data\n",
        "accuracy = accuracy_score(test_labels, test_preds)\n",
        "auc = roc_auc_score(test_labels, test_preds)\n",
        "accuracy = accuracy_score(test_labels, test_preds)\n",
        "precision = precision_score(test_labels, test_preds)\n",
        "recall = recall_score(test_labels, test_preds)\n",
        "f1 = f1_score(test_labels, test_preds)\n",
        "print(\"Test AUC score: {:.4f}\".format(auc))\n",
        "print(\"Accuracy: %.2f%%\" % (accuracy * 100.0))\n",
        "print('Precision:', precision)\n",
        "print('Recall:', recall)\n",
        "print('F1 Score:', f1)"
      ],
      "metadata": {
        "colab": {
          "base_uri": "https://localhost:8080/"
        },
        "id": "A4RDCle1Jgjs",
        "outputId": "39a0bdaf-8be6-4e80-bbff-a070afe961a2"
      },
      "execution_count": 6,
      "outputs": [
        {
          "output_type": "stream",
          "name": "stdout",
          "text": [
            "Test AUC score: 0.7363\n",
            "Accuracy: 73.76%\n",
            "Precision: 0.7475109188383597\n",
            "Recall: 0.7598257869045615\n",
            "F1 Score: 0.753618046932877\n"
          ]
        }
      ]
    }
  ]
}