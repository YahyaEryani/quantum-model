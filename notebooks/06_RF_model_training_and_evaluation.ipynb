{
  "nbformat": 4,
  "nbformat_minor": 0,
  "metadata": {
    "colab": {
      "provenance": []
    },
    "kernelspec": {
      "name": "python3",
      "display_name": "Python 3"
    },
    "language_info": {
      "name": "python"
    }
  },
  "cells": [
    {
      "cell_type": "markdown",
      "source": [
        "# **Model Training and Tuning**\n",
        "\n",
        "In this notebook, we will train a Random Forest (RF) model on the Higgs boson dataset we have preprocessed in the previous notebook `01_data_exploration`. We will perform the model training and tuning process to obtain the best model with the highest accuracy possible."
      ],
      "metadata": {
        "id": "8ir-lge_KERD"
      }
    },
    {
      "cell_type": "markdown",
      "source": [
        "## **Importing Libraries**\n",
        "\n",
        "In this section, we will import the necessary libraries and packages that will be used throughout the notebook."
      ],
      "metadata": {
        "id": "Ha1I4rhGKWO4"
      }
    },
    {
      "cell_type": "code",
      "execution_count": null,
      "metadata": {
        "id": "T5ctK12ieGfS"
      },
      "outputs": [],
      "source": [
        "from sklearn.ensemble import RandomForestClassifier\n",
        "from sklearn.model_selection import train_test_split\n",
        "import pandas as pd\n",
        "import numpy as np\n",
        "import matplotlib.pyplot as plt\n",
        "from sklearn.metrics import accuracy_score, precision_score,recall_score, f1_score, confusion_matrix, classification_report, roc_auc_score\n",
        "from sklearn.model_selection import GridSearchCV"
      ]
    },
    {
      "cell_type": "markdown",
      "source": [
        "## **Loading Data**\n",
        "\n",
        "This code cell loads the training, validation, and test datasets that were saved in pkl format to the local directory."
      ],
      "metadata": {
        "id": "EoCBB6G8PTIc"
      }
    },
    {
      "cell_type": "code",
      "source": [
        "# Mount Google Drive in Colab\n",
        "from google.colab import drive\n",
        "import pandas as pd\n",
        "\n",
        "drive.mount('/content/drive')\n",
        "\n",
        "# Load data from Google Drive\n",
        "train_path = '/content/drive/MyDrive/Higgs_dataset/processed/training_data.pkl'\n",
        "val_path   = '/content/drive/MyDrive/Higgs_dataset/processed/validation_data.pkl'\n",
        "test_path  = '/content/drive/MyDrive/Higgs_dataset/processed/testing_data.pkl'\n",
        "\n",
        "train_data = pd.read_pickle(train_path)\n",
        "val_data = pd.read_pickle(val_path)\n",
        "test_data = pd.read_pickle(test_path)"
      ],
      "metadata": {
        "colab": {
          "base_uri": "https://localhost:8080/"
        },
        "id": "6kzFjZSqPYPX",
        "outputId": "1268b344-cfa4-4eda-fefb-db9e9870465a"
      },
      "execution_count": null,
      "outputs": [
        {
          "output_type": "stream",
          "name": "stdout",
          "text": [
            "Mounted at /content/drive\n"
          ]
        }
      ]
    },
    {
      "cell_type": "markdown",
      "source": [
        "## **Prepare the data for training**\n",
        "This code separates the features and class labels from the train, validation, and test datasets."
      ],
      "metadata": {
        "id": "jWV8PMlfTvYJ"
      }
    },
    {
      "cell_type": "code",
      "source": [
        "# Separate features and labels\n",
        "y_train = train_data['class_label']\n",
        "X_train = train_data.drop('class_label', axis=1)\n",
        "y_val = val_data['class_label']\n",
        "X_val = val_data.drop('class_label', axis=1)\n",
        "y_test = test_data['class_label']\n",
        "X_test = test_data.drop('class_label', axis=1)\n"
      ],
      "metadata": {
        "id": "F8GRdxxKT3k-"
      },
      "execution_count": null,
      "outputs": []
    },
    {
      "cell_type": "markdown",
      "source": [
        "## **Train the RF model**\n",
        "This code sets the hyperparameters for an RF model, including the required number of trees in the Random Forest and the function to measure the quality of a split and the maximum depth of RF."
      ],
      "metadata": {
        "id": "iewCxUhFUMqM"
      }
    },
    {
      "cell_type": "code",
      "source": [
        "#Fitting Random Forest classifier to the training set  \n",
        "\n",
        "\n",
        "# number of trees to be used or estimators\n",
        "estimators = list(range(1, 150, 10))\n",
        "# Loop through the estimators\n",
        "scores = []\n",
        "for num_est in estimators:\n",
        "    rf = RandomForestClassifier(n_estimators = num_est)\n",
        "    rf.fit(X_train, y_train)\n",
        "    y_pred = rf.predict(X_val)\n",
        "    score = f1_score(y_val, y_pred) #f1 score as metrics\n",
        "    scores.append(score)\n",
        "\n",
        "# Plot of scores corrosponding to number of estimators to find the best possible number of estimator\n",
        "plt.plot(estimators, scores)\n",
        "plt.xlabel('n_estimators')\n",
        "plt.ylabel('F1 Score')\n",
        "plt.show()\n"
      ],
      "metadata": {
        "colab": {
          "base_uri": "https://localhost:8080/",
          "height": 450
        },
        "id": "dB9rDd4xXwoC",
        "outputId": "2567c6ec-263b-4098-9470-59af01226209"
      },
      "execution_count": null,
      "outputs": [
        {
          "output_type": "display_data",
          "data": {
            "text/plain": [
              "<Figure size 640x480 with 1 Axes>"
            ],
            "image/png": "[encoded data removed]"
          },
          "metadata": {}
        }
      ]
    },
    {
      "cell_type": "markdown",
      "source": [
        "**Observation:**\n",
        "\n",
        "We can see from the graph that if we increase the number of  (trees in the forest), we get a higher F1 score, and after n_estimators = 100 the F1 score nearly plateaus.\n",
        "\n",
        "Hence we choose 100 as the number of trees for the model."
      ],
      "metadata": {
        "id": "Kx2vVNuqYR0-"
      }
    },
    {
      "cell_type": "code",
      "source": [
        "RFclassifier = RandomForestClassifier(n_estimators=100)  \n",
        "RFclassifier.fit(X_train, y_train)  \n",
        "\n",
        "# Calculate the accuracy on the training set\n",
        "y_train_pred = RFclassifier.predict(X_train.values)\n",
        "train_accuracy = accuracy_score(y_train, y_train_pred)\n",
        "print(f\"Training Accuracy: {train_accuracy * 100:.2f}%\")"
      ],
      "metadata": {
        "colab": {
          "base_uri": "https://localhost:8080/"
        },
        "id": "FM2tYZcrsv8v",
        "outputId": "a51ce9f8-2fc1-48bf-819a-deb23bfbd9c0"
      },
      "execution_count": null,
      "outputs": [
        {
          "output_type": "stream",
          "name": "stderr",
          "text": [
            "/usr/local/lib/python3.9/dist-packages/sklearn/base.py:439: UserWarning: X does not have valid feature names, but RandomForestClassifier was fitted with feature names\n",
            "  warnings.warn(\n"
          ]
        },
        {
          "output_type": "stream",
          "name": "stdout",
          "text": [
            "Training Accuracy: 100.00%\n"
          ]
        }
      ]
    },
    {
      "cell_type": "markdown",
      "source": [
        "**Observation:**\n",
        "\n",
        "The model seems overfitting, so we need to change hyperparameters other than the n_estimators. "
      ],
      "metadata": {
        "id": "aFvJuT9apYOP"
      }
    },
    {
      "cell_type": "code",
      "source": [
        "#Fitting Random Forest classifier to the training set  \n",
        "\n",
        "\n",
        "max_depths = list(range(10, 50, 10))\n",
        "\n",
        "scores = []\n",
        "for m in max_depths:\n",
        "    rf = RandomForestClassifier(n_estimators = 100, max_depth = m)\n",
        "    rf.fit(X_train, y_train)\n",
        "    y_pred = rf.predict(X_val)\n",
        "    score = f1_score(y_val, y_pred) #f1 score as metrics\n",
        "    scores.append(score)\n",
        "\n",
        "# Plot of scores corrosponding to max_depths to find the best possible max_depth\n",
        "plt.plot(max_depths, scores)\n",
        "plt.xlabel('Max_depths')\n",
        "plt.ylabel('F1 Score')\n",
        "plt.show()"
      ],
      "metadata": {
        "colab": {
          "base_uri": "https://localhost:8080/",
          "height": 450
        },
        "id": "7uOCZ2vdWRwh",
        "outputId": "a65e524e-e470-49e1-c709-cd94cc9134c8"
      },
      "execution_count": null,
      "outputs": [
        {
          "output_type": "display_data",
          "data": {
            "text/plain": [
              "<Figure size 640x480 with 1 Axes>"
            ],
            "image/png": "[encoded data removed]"
          },
          "metadata": {}
        }
      ]
    },
    {
      "cell_type": "markdown",
      "source": [
        "**Observation:**\n",
        "\n",
        "We can see from the graph that if we increase the max_depth we get a higher F1 score, and between max_depth = 20 and max_depth = 30, the F1 score nearly plateaus.\n",
        "\n",
        "Hence we choose 25 as max_depth."
      ],
      "metadata": {
        "id": "f7ZY15wqaWed"
      }
    },
    {
      "cell_type": "code",
      "source": [
        "#Fitting Random Forest Classifier model with n_estimators=100, max_depth=25  \n",
        "RFclassifier = RandomForestClassifier(n_estimators=100, max_depth=25)  \n",
        "RFclassifier.fit(X_train, y_train)  \n",
        "\n",
        "# Calculate the accuracy on the training set\n",
        "y_train_pred = RFclassifier.predict(X_train.values)\n",
        "train_accuracy = accuracy_score(y_train, y_train_pred)\n",
        "print(f\"Training Accuracy: {train_accuracy * 100:.2f}%\")"
      ],
      "metadata": {
        "colab": {
          "base_uri": "https://localhost:8080/"
        },
        "id": "ZItmo2UOqlFL",
        "outputId": "bb48ef98-7c95-47b2-dab7-5bf8f34e2a98"
      },
      "execution_count": null,
      "outputs": [
        {
          "output_type": "stream",
          "name": "stderr",
          "text": [
            "/usr/local/lib/python3.9/dist-packages/sklearn/base.py:439: UserWarning: X does not have valid feature names, but RandomForestClassifier was fitted with feature names\n",
            "  warnings.warn(\n"
          ]
        },
        {
          "output_type": "stream",
          "name": "stdout",
          "text": [
            "Training Accuracy: 99.37%\n"
          ]
        }
      ]
    },
    {
      "cell_type": "markdown",
      "source": [
        "**Observation:**\n",
        "\n",
        "The model seems overfitting, so we will try to adjust other parameters"
      ],
      "metadata": {
        "id": "Wca8O0QfYRVw"
      }
    },
    {
      "cell_type": "code",
      "source": [
        "#Fitting Random Forest classifier to the training set  \n",
        "min_samples_leafs = list(range(1, 11, 1))\n",
        "\n",
        "scores = []\n",
        "for m in min_samples_leafs:\n",
        "    rf = RandomForestClassifier(n_estimators = 100, max_depth = 25, min_samples_leaf = m)\n",
        "    rf.fit(X_train, y_train)\n",
        "    y_pred = rf.predict(X_val)\n",
        "    score = f1_score(y_val, y_pred) #f1 score as metrics\n",
        "    scores.append(score)\n",
        "# Plot of scores corrosponding to random_states to find the best possible random_state\n",
        "plt.plot(min_samples_leafs, scores)\n",
        "plt.xlabel('min_samples_leafs')\n",
        "plt.ylabel('F1 Score')\n",
        "plt.show()"
      ],
      "metadata": {
        "id": "Uy1SqeyEeiLo",
        "colab": {
          "base_uri": "https://localhost:8080/",
          "height": 450
        },
        "outputId": "2c0d4262-0686-41fe-c57a-22996c48a79b"
      },
      "execution_count": 20,
      "outputs": [
        {
          "output_type": "display_data",
          "data": {
            "text/plain": [
              "<Figure size 640x480 with 1 Axes>"
            ],
            "image/png": "[encoded data removed]"
          },
          "metadata": {}
        }
      ]
    },
    {
      "cell_type": "markdown",
      "source": [
        "**Observation:**\n",
        "8 seems as a good value for min_samples_leaf"
      ],
      "metadata": {
        "id": "XUH4cws8jJaT"
      }
    },
    {
      "cell_type": "code",
      "source": [
        "RFclassifier = RandomForestClassifier(n_estimators=100, max_depth=25, min_samples_leaf = 8,random_state = 42)\n",
        "RFclassifier.fit(X_train, y_train)  "
      ],
      "metadata": {
        "id": "Y2anuJwhjZ39",
        "colab": {
          "base_uri": "https://localhost:8080/",
          "height": 74
        },
        "outputId": "6a244054-a467-4591-c1e7-9a5847efd584"
      },
      "execution_count": 22,
      "outputs": [
        {
          "output_type": "execute_result",
          "data": {
            "text/plain": [
              "RandomForestClassifier(max_depth=25, min_samples_leaf=8, random_state=42)"
            ],
            "text/html": [
              "<style>#sk-container-id-2 {color: black;background-color: white;}#sk-container-id-2 pre{padding: 0;}#sk-container-id-2 div.sk-toggleable {background-color: white;}#sk-container-id-2 label.sk-toggleable__label {cursor: pointer;display: block;width: 100%;margin-bottom: 0;padding: 0.3em;box-sizing: border-box;text-align: center;}#sk-container-id-2 label.sk-toggleable__label-arrow:before {content: \"▸\";float: left;margin-right: 0.25em;color: #696969;}#sk-container-id-2 label.sk-toggleable__label-arrow:hover:before {color: black;}#sk-container-id-2 div.sk-estimator:hover label.sk-toggleable__label-arrow:before {color: black;}#sk-container-id-2 div.sk-toggleable__content {max-height: 0;max-width: 0;overflow: hidden;text-align: left;background-color: #f0f8ff;}#sk-container-id-2 div.sk-toggleable__content pre {margin: 0.2em;color: black;border-radius: 0.25em;background-color: #f0f8ff;}#sk-container-id-2 input.sk-toggleable__control:checked~div.sk-toggleable__content {max-height: 200px;max-width: 100%;overflow: auto;}#sk-container-id-2 input.sk-toggleable__control:checked~label.sk-toggleable__label-arrow:before {content: \"▾\";}#sk-container-id-2 div.sk-estimator input.sk-toggleable__control:checked~label.sk-toggleable__label {background-color: #d4ebff;}#sk-container-id-2 div.sk-label input.sk-toggleable__control:checked~label.sk-toggleable__label {background-color: #d4ebff;}#sk-container-id-2 input.sk-hidden--visually {border: 0;clip: rect(1px 1px 1px 1px);clip: rect(1px, 1px, 1px, 1px);height: 1px;margin: -1px;overflow: hidden;padding: 0;position: absolute;width: 1px;}#sk-container-id-2 div.sk-estimator {font-family: monospace;background-color: #f0f8ff;border: 1px dotted black;border-radius: 0.25em;box-sizing: border-box;margin-bottom: 0.5em;}#sk-container-id-2 div.sk-estimator:hover {background-color: #d4ebff;}#sk-container-id-2 div.sk-parallel-item::after {content: \"\";width: 100%;border-bottom: 1px solid gray;flex-grow: 1;}#sk-container-id-2 div.sk-label:hover label.sk-toggleable__label {background-color: #d4ebff;}#sk-container-id-2 div.sk-serial::before {content: \"\";position: absolute;border-left: 1px solid gray;box-sizing: border-box;top: 0;bottom: 0;left: 50%;z-index: 0;}#sk-container-id-2 div.sk-serial {display: flex;flex-direction: column;align-items: center;background-color: white;padding-right: 0.2em;padding-left: 0.2em;position: relative;}#sk-container-id-2 div.sk-item {position: relative;z-index: 1;}#sk-container-id-2 div.sk-parallel {display: flex;align-items: stretch;justify-content: center;background-color: white;position: relative;}#sk-container-id-2 div.sk-item::before, #sk-container-id-2 div.sk-parallel-item::before {content: \"\";position: absolute;border-left: 1px solid gray;box-sizing: border-box;top: 0;bottom: 0;left: 50%;z-index: -1;}#sk-container-id-2 div.sk-parallel-item {display: flex;flex-direction: column;z-index: 1;position: relative;background-color: white;}#sk-container-id-2 div.sk-parallel-item:first-child::after {align-self: flex-end;width: 50%;}#sk-container-id-2 div.sk-parallel-item:last-child::after {align-self: flex-start;width: 50%;}#sk-container-id-2 div.sk-parallel-item:only-child::after {width: 0;}#sk-container-id-2 div.sk-dashed-wrapped {border: 1px dashed gray;margin: 0 0.4em 0.5em 0.4em;box-sizing: border-box;padding-bottom: 0.4em;background-color: white;}#sk-container-id-2 div.sk-label label {font-family: monospace;font-weight: bold;display: inline-block;line-height: 1.2em;}#sk-container-id-2 div.sk-label-container {text-align: center;}#sk-container-id-2 div.sk-container {/* jupyter's `normalize.less` sets `[hidden] { display: none; }` but bootstrap.min.css set `[hidden] { display: none !important; }` so we also need the `!important` here to be able to override the default hidden behavior on the sphinx rendered scikit-learn.org. See: https://github.com/scikit-learn/scikit-learn/issues/21755 */display: inline-block !important;position: relative;}#sk-container-id-2 div.sk-text-repr-fallback {display: none;}</style><div id=\"sk-container-id-2\" class=\"sk-top-container\"><div class=\"sk-text-repr-fallback\"><pre>RandomForestClassifier(max_depth=25, min_samples_leaf=8, random_state=42)</pre><b>In a Jupyter environment, please rerun this cell to show the HTML representation or trust the notebook. <br />On GitHub, the HTML representation is unable to render, please try loading this page with nbviewer.org.</b></div><div class=\"sk-container\" hidden><div class=\"sk-item\"><div class=\"sk-estimator sk-toggleable\"><input class=\"sk-toggleable__control sk-hidden--visually\" id=\"sk-estimator-id-2\" type=\"checkbox\" checked><label for=\"sk-estimator-id-2\" class=\"sk-toggleable__label sk-toggleable__label-arrow\">RandomForestClassifier</label><div class=\"sk-toggleable__content\"><pre>RandomForestClassifier(max_depth=25, min_samples_leaf=8, random_state=42)</pre></div></div></div></div></div>"
            ]
          },
          "metadata": {},
          "execution_count": 22
        }
      ]
    },
    {
      "cell_type": "code",
      "source": [
        "# calculate the accuracy and F1 score\n",
        "y_train_pred = RFclassifier.predict(X_train.values)\n",
        "accuracy = accuracy_score(y_train, y_train_pred)\n",
        "f1 = f1_score(y_train, y_train_pred)\n",
        "\n",
        "print(\"Accuracy: {:.2f}%\".format(accuracy*100))\n",
        "print(\"F1 Score: {:.2f}%\".format(f1*100))"
      ],
      "metadata": {
        "colab": {
          "base_uri": "https://localhost:8080/"
        },
        "id": "ViNxmt88ioPS",
        "outputId": "6adbcf17-42be-4e41-ce48-c3fb599e45d6"
      },
      "execution_count": 23,
      "outputs": [
        {
          "output_type": "stream",
          "name": "stderr",
          "text": [
            "/usr/local/lib/python3.9/dist-packages/sklearn/base.py:439: UserWarning: X does not have valid feature names, but RandomForestClassifier was fitted with feature names\n",
            "  warnings.warn(\n"
          ]
        },
        {
          "output_type": "stream",
          "name": "stdout",
          "text": [
            "Accuracy: 90.76%\n",
            "F1 Score: 91.38%\n"
          ]
        }
      ]
    },
    {
      "cell_type": "markdown",
      "source": [
        "## **Model Evaluation**\n",
        "## Make predictions on the test data and evaluate the model performance\n",
        "This code uses the RF model that was previously trained to make predictions on the test data."
      ],
      "metadata": {
        "id": "WPvsjfHRpLB3"
      }
    },
    {
      "cell_type": "code",
      "source": [
        "# Make predictions on the test data\n",
        "y_test_pred = RFclassifier.predict(X_test.values)\n",
        "\n",
        "# Calculate the accuracy of the model on the test data\n",
        "test_accuracy = accuracy_score(y_test, y_test_pred)\n",
        "score = f1_score(y_test, y_test_pred)#f1 score as metrics\n",
        "print(f\"Test Accuracy: {test_accuracy * 100:.2f}%\")\n",
        "print(\"F1 Score: {:.2f}%\".format(score*100))"
      ],
      "metadata": {
        "colab": {
          "base_uri": "https://localhost:8080/"
        },
        "id": "xoCmQtt_pawE",
        "outputId": "8d6b4c4b-bafd-4b6e-a258-01be0fd47ac8"
      },
      "execution_count": 25,
      "outputs": [
        {
          "output_type": "stream",
          "name": "stderr",
          "text": [
            "/usr/local/lib/python3.9/dist-packages/sklearn/base.py:439: UserWarning: X does not have valid feature names, but RandomForestClassifier was fitted with feature names\n",
            "  warnings.warn(\n"
          ]
        },
        {
          "output_type": "stream",
          "name": "stdout",
          "text": [
            "Test Accuracy: 72.94%\n",
            "F1 Score: 74.75%\n"
          ]
        }
      ]
    },
    {
      "cell_type": "markdown",
      "source": [
        "## **Model Tuning**"
      ],
      "metadata": {
        "id": "TLKbQSs-wGVt"
      }
    },
    {
      "cell_type": "markdown",
      "source": [
        "Hyperparameter tuning for RF Classifier Using RadomizedSearch"
      ],
      "metadata": {
        "id": "OWq9b1Gpz59o"
      }
    },
    {
      "cell_type": "code",
      "source": [
        "from sklearn.model_selection import RandomizedSearchCV\n",
        "from sklearn.metrics import roc_auc_score\n",
        "from scipy.stats import randint\n",
        "\n",
        "# create a Random Forest classifier object\n",
        "rfc = RandomForestClassifier(random_state=42)\n",
        "\n",
        "\n",
        "# define the hyperparameters distribution to sample from\n",
        "param_dist = {\n",
        "    'criterion': ['gini', 'entropy', 'log_loss'],\n",
        "    'n_estimators': randint(50, 500),\n",
        "    'max_depth': [5, 10, 20, 30, None],\n",
        "    'min_samples_split': randint(2, 11),\n",
        "    'min_samples_leaf': randint(1, 5),\n",
        "    'max_features': ['auto', 'sqrt', 'log2']\n",
        "}\n",
        "\n",
        "\n",
        "# create a RandomizedSearchCV object\n",
        "random_search = RandomizedSearchCV(estimator=rfc, param_distributions=param_dist, cv=5, n_jobs=-1, n_iter=50, random_state=42)\n",
        "\n",
        "# fit the RandomizedSearchCV object to the training data\n",
        "random_search.fit(X_train, y_train)\n",
        "\n",
        "# print the best hyperparameters\n",
        "print(random_search.best_params_)\n",
        "\n",
        "# make predictions on the testing data using the best model\n",
        "y_pred = random_search.predict(X_test)\n",
        "\n",
        "# calculate the ROC AUC score of the best model\n",
        "roc_auc = roc_auc_score(y_test, y_pred)\n",
        "\n",
        "print('ROC AUC score:', roc_auc)"
      ],
      "metadata": {
        "id": "LYWsFNR8No8W"
      },
      "execution_count": null,
      "outputs": []
    }
  ]
}