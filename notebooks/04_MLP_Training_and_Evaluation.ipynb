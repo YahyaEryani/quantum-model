{
  "nbformat": 4,
  "nbformat_minor": 0,
  "metadata": {
    "colab": {
      "provenance": [],
      "authorship_tag": "ABX9TyNfrGExvyl9VS8hbC4RU8jX",
      "include_colab_link": true
    },
    "kernelspec": {
      "name": "python3",
      "display_name": "Python 3"
    },
    "language_info": {
      "name": "python"
    }
  },
  "cells": [
    {
      "cell_type": "markdown",
      "metadata": {
        "id": "view-in-github",
        "colab_type": "text"
      },
      "source": [
        "<a href=\"https://colab.research.google.com/github/YahyaEryani/quantum-model/blob/main/notebooks/04_MLP_Training_and_Evaluation.ipynb\" target=\"_parent\"><img src=\"https://colab.research.google.com/assets/colab-badge.svg\" alt=\"Open In Colab\"/></a>"
      ]
    },
    {
      "cell_type": "markdown",
      "source": [
        "# Model Training, Tuning, and Evaluation\n",
        " In this notebook, we will train a multilayer perceptron (MLP) model on the Higgs boson dataset we have preprocessed in the `01_data_exploration` notebook. We will perform the model training and tuning process to obtain the best model with the highest accuracy possible."
      ],
      "metadata": {
        "id": "Kogj2gRg_ygY"
      }
    },
    {
      "cell_type": "code",
      "execution_count": 7,
      "metadata": {
        "id": "w6a9lis0_xBr"
      },
      "outputs": [],
      "source": [
        "import tensorflow as tf\n",
        "from tensorflow.keras.models import Sequential\n",
        "from tensorflow.keras.layers import Dense, Dropout\n",
        "from tensorflow.keras.optimizers import Adam\n",
        "from sklearn.preprocessing import StandardScaler\n",
        "from sklearn.metrics import accuracy_score"
      ]
    },
    {
      "cell_type": "markdown",
      "source": [
        "## Loading Data\n",
        "\n",
        "This code cell loads the training, validation, and test datasets that were saved in pickle format to the local directory."
      ],
      "metadata": {
        "id": "9bqpbx2gQjLz"
      }
    },
    {
      "cell_type": "code",
      "source": [
        "# Mount Google Drive in Colab\n",
        "from google.colab import drive\n",
        "import pandas as pd\n",
        "\n",
        "drive.mount('/content/drive')\n",
        "\n",
        "# Load data from Google Drive\n",
        "train_path = '/content/drive/MyDrive/Higgs_dataset/processed/training_data.pkl'\n",
        "val_path   = '/content/drive/MyDrive/Higgs_dataset/processed/validation_data.pkl'\n",
        "test_path  = '/content/drive/MyDrive/Higgs_dataset/processed/testing_data.pkl'\n",
        "\n",
        "train_data = pd.read_pickle(train_path)\n",
        "val_data = pd.read_pickle(val_path)\n",
        "test_data = pd.read_pickle(test_path)"
      ],
      "metadata": {
        "colab": {
          "base_uri": "https://localhost:8080/"
        },
        "id": "FiencA2kQjrk",
        "outputId": "edaeb1e6-4242-47d8-d329-42383373fd72"
      },
      "execution_count": 8,
      "outputs": [
        {
          "output_type": "stream",
          "name": "stdout",
          "text": [
            "Drive already mounted at /content/drive; to attempt to forcibly remount, call drive.mount(\"/content/drive\", force_remount=True).\n"
          ]
        }
      ]
    },
    {
      "cell_type": "markdown",
      "source": [
        "## Prepare the data for training\n",
        "This code separates the features and class labels from the train, validation, and test datasets."
      ],
      "metadata": {
        "id": "3yLmYroWSLXz"
      }
    },
    {
      "cell_type": "code",
      "source": [
        "# Separate features and labels\n",
        "y_train = train_data['class_label']\n",
        "X_train = train_data.drop('class_label', axis=1)\n",
        "y_val = val_data['class_label']\n",
        "X_val = val_data.drop('class_label', axis=1)\n",
        "y_test = test_data['class_label']\n",
        "X_test = test_data.drop('class_label', axis=1)"
      ],
      "metadata": {
        "id": "ixKPLwWDSLtn"
      },
      "execution_count": 9,
      "outputs": []
    },
    {
      "cell_type": "markdown",
      "source": [
        "##Train the multilayer perceptron model\n",
        "This code sets the hyperparameters for an MLP model, including the number of hidden layers, number of neurons per layer, activation functions, and dropout rates. It then trains the MLP model using the Adam optimizer with a specified learning rate, batch size, and number of epochs. Additionally, the model performance is monitored using the validation set during training."
      ],
      "metadata": {
        "id": "tTG24NPLTaOd"
      }
    },
    {
      "cell_type": "code",
      "source": [
        "# Define the MLP model\n",
        "model = Sequential([\n",
        "    Dense(128, activation='relu', input_shape=(X_train.shape[1],)),\n",
        "    Dropout(0.5),\n",
        "    Dense(64, activation='relu'),\n",
        "    Dropout(0.5),\n",
        "    Dense(32, activation='relu'),\n",
        "    Dense(1, activation='sigmoid')\n",
        "])\n",
        "\n",
        "# Compile the model\n",
        "model.compile(optimizer=Adam(learning_rate=0.001), loss='binary_crossentropy', metrics=['accuracy'])\n",
        "\n",
        "# Train the model\n",
        "history = model.fit(\n",
        "    X_train, y_train,\n",
        "    epochs=100,\n",
        "    batch_size=256,\n",
        "    validation_data=(X_val, y_val),\n",
        "    verbose=1\n",
        ")"
      ],
      "metadata": {
        "colab": {
          "base_uri": "https://localhost:8080/"
        },
        "id": "su6E8xU8Tb-m",
        "outputId": "2e07fe9a-0e38-4f3f-edb0-11bdfc4169a1"
      },
      "execution_count": 10,
      "outputs": [
        {
          "output_type": "stream",
          "name": "stdout",
          "text": [
            "Epoch 1/100\n",
            "1407/1407 [==============================] - 8s 5ms/step - loss: 0.6413 - accuracy: 0.6257 - val_loss: 0.6062 - val_accuracy: 0.6781\n",
            "Epoch 2/100\n",
            "1407/1407 [==============================] - 7s 5ms/step - loss: 0.5961 - accuracy: 0.6809 - val_loss: 0.5720 - val_accuracy: 0.7041\n",
            "Epoch 3/100\n",
            "1407/1407 [==============================] - 7s 5ms/step - loss: 0.5749 - accuracy: 0.6978 - val_loss: 0.5546 - val_accuracy: 0.7122\n",
            "Epoch 4/100\n",
            "1407/1407 [==============================] - 6s 4ms/step - loss: 0.5663 - accuracy: 0.7035 - val_loss: 0.5522 - val_accuracy: 0.7169\n",
            "Epoch 5/100\n",
            "1407/1407 [==============================] - 7s 5ms/step - loss: 0.5613 - accuracy: 0.7069 - val_loss: 0.5427 - val_accuracy: 0.7208\n",
            "Epoch 6/100\n",
            "1407/1407 [==============================] - 6s 4ms/step - loss: 0.5584 - accuracy: 0.7096 - val_loss: 0.5438 - val_accuracy: 0.7221\n",
            "Epoch 7/100\n",
            "1407/1407 [==============================] - 7s 5ms/step - loss: 0.5559 - accuracy: 0.7112 - val_loss: 0.5413 - val_accuracy: 0.7241\n",
            "Epoch 8/100\n",
            "1407/1407 [==============================] - 6s 4ms/step - loss: 0.5536 - accuracy: 0.7132 - val_loss: 0.5391 - val_accuracy: 0.7247\n",
            "Epoch 9/100\n",
            "1407/1407 [==============================] - 7s 5ms/step - loss: 0.5525 - accuracy: 0.7130 - val_loss: 0.5384 - val_accuracy: 0.7249\n",
            "Epoch 10/100\n",
            "1407/1407 [==============================] - 6s 4ms/step - loss: 0.5515 - accuracy: 0.7141 - val_loss: 0.5363 - val_accuracy: 0.7268\n",
            "Epoch 11/100\n",
            "1407/1407 [==============================] - 7s 5ms/step - loss: 0.5502 - accuracy: 0.7155 - val_loss: 0.5373 - val_accuracy: 0.7277\n",
            "Epoch 12/100\n",
            "1407/1407 [==============================] - 6s 4ms/step - loss: 0.5495 - accuracy: 0.7151 - val_loss: 0.5350 - val_accuracy: 0.7278\n",
            "Epoch 13/100\n",
            "1407/1407 [==============================] - 7s 5ms/step - loss: 0.5488 - accuracy: 0.7165 - val_loss: 0.5354 - val_accuracy: 0.7279\n",
            "Epoch 14/100\n",
            "1407/1407 [==============================] - 6s 4ms/step - loss: 0.5476 - accuracy: 0.7173 - val_loss: 0.5337 - val_accuracy: 0.7289\n",
            "Epoch 15/100\n",
            "1407/1407 [==============================] - 7s 5ms/step - loss: 0.5470 - accuracy: 0.7176 - val_loss: 0.5333 - val_accuracy: 0.7293\n",
            "Epoch 16/100\n",
            "1407/1407 [==============================] - 6s 4ms/step - loss: 0.5469 - accuracy: 0.7177 - val_loss: 0.5317 - val_accuracy: 0.7308\n",
            "Epoch 17/100\n",
            "1407/1407 [==============================] - 7s 5ms/step - loss: 0.5460 - accuracy: 0.7190 - val_loss: 0.5315 - val_accuracy: 0.7310\n",
            "Epoch 18/100\n",
            "1407/1407 [==============================] - 6s 4ms/step - loss: 0.5452 - accuracy: 0.7184 - val_loss: 0.5314 - val_accuracy: 0.7310\n",
            "Epoch 19/100\n",
            "1407/1407 [==============================] - 7s 5ms/step - loss: 0.5454 - accuracy: 0.7173 - val_loss: 0.5304 - val_accuracy: 0.7315\n",
            "Epoch 20/100\n",
            "1407/1407 [==============================] - 6s 4ms/step - loss: 0.5446 - accuracy: 0.7195 - val_loss: 0.5316 - val_accuracy: 0.7311\n",
            "Epoch 21/100\n",
            "1407/1407 [==============================] - 7s 5ms/step - loss: 0.5445 - accuracy: 0.7188 - val_loss: 0.5299 - val_accuracy: 0.7324\n",
            "Epoch 22/100\n",
            "1407/1407 [==============================] - 7s 5ms/step - loss: 0.5442 - accuracy: 0.7194 - val_loss: 0.5312 - val_accuracy: 0.7315\n",
            "Epoch 23/100\n",
            "1407/1407 [==============================] - 6s 4ms/step - loss: 0.5438 - accuracy: 0.7196 - val_loss: 0.5317 - val_accuracy: 0.7322\n",
            "Epoch 24/100\n",
            "1407/1407 [==============================] - 7s 5ms/step - loss: 0.5431 - accuracy: 0.7198 - val_loss: 0.5299 - val_accuracy: 0.7321\n",
            "Epoch 25/100\n",
            "1407/1407 [==============================] - 6s 4ms/step - loss: 0.5428 - accuracy: 0.7202 - val_loss: 0.5284 - val_accuracy: 0.7328\n",
            "Epoch 26/100\n",
            "1407/1407 [==============================] - 7s 5ms/step - loss: 0.5423 - accuracy: 0.7208 - val_loss: 0.5283 - val_accuracy: 0.7323\n",
            "Epoch 27/100\n",
            "1407/1407 [==============================] - 6s 4ms/step - loss: 0.5425 - accuracy: 0.7212 - val_loss: 0.5296 - val_accuracy: 0.7326\n",
            "Epoch 28/100\n",
            "1407/1407 [==============================] - 7s 5ms/step - loss: 0.5418 - accuracy: 0.7214 - val_loss: 0.5293 - val_accuracy: 0.7322\n",
            "Epoch 29/100\n",
            "1407/1407 [==============================] - 6s 4ms/step - loss: 0.5414 - accuracy: 0.7218 - val_loss: 0.5310 - val_accuracy: 0.7332\n",
            "Epoch 30/100\n",
            "1407/1407 [==============================] - 7s 5ms/step - loss: 0.5417 - accuracy: 0.7213 - val_loss: 0.5282 - val_accuracy: 0.7337\n",
            "Epoch 31/100\n",
            "1407/1407 [==============================] - 6s 4ms/step - loss: 0.5418 - accuracy: 0.7208 - val_loss: 0.5287 - val_accuracy: 0.7335\n",
            "Epoch 32/100\n",
            "1407/1407 [==============================] - 7s 5ms/step - loss: 0.5413 - accuracy: 0.7215 - val_loss: 0.5272 - val_accuracy: 0.7347\n",
            "Epoch 33/100\n",
            "1407/1407 [==============================] - 6s 4ms/step - loss: 0.5408 - accuracy: 0.7216 - val_loss: 0.5287 - val_accuracy: 0.7328\n",
            "Epoch 34/100\n",
            "1407/1407 [==============================] - 7s 5ms/step - loss: 0.5401 - accuracy: 0.7232 - val_loss: 0.5267 - val_accuracy: 0.7353\n",
            "Epoch 35/100\n",
            "1407/1407 [==============================] - 6s 4ms/step - loss: 0.5404 - accuracy: 0.7220 - val_loss: 0.5283 - val_accuracy: 0.7345\n",
            "Epoch 36/100\n",
            "1407/1407 [==============================] - 7s 5ms/step - loss: 0.5406 - accuracy: 0.7223 - val_loss: 0.5289 - val_accuracy: 0.7342\n",
            "Epoch 37/100\n",
            "1407/1407 [==============================] - 6s 4ms/step - loss: 0.5406 - accuracy: 0.7224 - val_loss: 0.5259 - val_accuracy: 0.7356\n",
            "Epoch 38/100\n",
            "1407/1407 [==============================] - 7s 5ms/step - loss: 0.5401 - accuracy: 0.7230 - val_loss: 0.5275 - val_accuracy: 0.7344\n",
            "Epoch 39/100\n",
            "1407/1407 [==============================] - 6s 4ms/step - loss: 0.5400 - accuracy: 0.7225 - val_loss: 0.5270 - val_accuracy: 0.7348\n",
            "Epoch 40/100\n",
            "1407/1407 [==============================] - 7s 5ms/step - loss: 0.5403 - accuracy: 0.7223 - val_loss: 0.5253 - val_accuracy: 0.7343\n",
            "Epoch 41/100\n",
            "1407/1407 [==============================] - 6s 4ms/step - loss: 0.5396 - accuracy: 0.7233 - val_loss: 0.5286 - val_accuracy: 0.7344\n",
            "Epoch 42/100\n",
            "1407/1407 [==============================] - 7s 5ms/step - loss: 0.5394 - accuracy: 0.7228 - val_loss: 0.5314 - val_accuracy: 0.7343\n",
            "Epoch 43/100\n",
            "1407/1407 [==============================] - 6s 4ms/step - loss: 0.5393 - accuracy: 0.7224 - val_loss: 0.5278 - val_accuracy: 0.7352\n",
            "Epoch 44/100\n",
            "1407/1407 [==============================] - 7s 5ms/step - loss: 0.5386 - accuracy: 0.7237 - val_loss: 0.5291 - val_accuracy: 0.7353\n",
            "Epoch 45/100\n",
            "1407/1407 [==============================] - 7s 5ms/step - loss: 0.5394 - accuracy: 0.7227 - val_loss: 0.5272 - val_accuracy: 0.7347\n",
            "Epoch 46/100\n",
            "1407/1407 [==============================] - 6s 5ms/step - loss: 0.5385 - accuracy: 0.7236 - val_loss: 0.5263 - val_accuracy: 0.7357\n",
            "Epoch 47/100\n",
            "1407/1407 [==============================] - 6s 5ms/step - loss: 0.5387 - accuracy: 0.7225 - val_loss: 0.5262 - val_accuracy: 0.7356\n",
            "Epoch 48/100\n",
            "1407/1407 [==============================] - 6s 4ms/step - loss: 0.5387 - accuracy: 0.7231 - val_loss: 0.5273 - val_accuracy: 0.7353\n",
            "Epoch 49/100\n",
            "1407/1407 [==============================] - 7s 5ms/step - loss: 0.5388 - accuracy: 0.7239 - val_loss: 0.5269 - val_accuracy: 0.7344\n",
            "Epoch 50/100\n",
            "1407/1407 [==============================] - 6s 4ms/step - loss: 0.5387 - accuracy: 0.7232 - val_loss: 0.5254 - val_accuracy: 0.7355\n",
            "Epoch 51/100\n",
            "1407/1407 [==============================] - 7s 5ms/step - loss: 0.5380 - accuracy: 0.7241 - val_loss: 0.5272 - val_accuracy: 0.7368\n",
            "Epoch 52/100\n",
            "1407/1407 [==============================] - 6s 4ms/step - loss: 0.5381 - accuracy: 0.7232 - val_loss: 0.5266 - val_accuracy: 0.7351\n",
            "Epoch 53/100\n",
            "1407/1407 [==============================] - 7s 5ms/step - loss: 0.5389 - accuracy: 0.7236 - val_loss: 0.5268 - val_accuracy: 0.7355\n",
            "Epoch 54/100\n",
            "1407/1407 [==============================] - 6s 4ms/step - loss: 0.5380 - accuracy: 0.7236 - val_loss: 0.5279 - val_accuracy: 0.7351\n",
            "Epoch 55/100\n",
            "1407/1407 [==============================] - 7s 5ms/step - loss: 0.5380 - accuracy: 0.7240 - val_loss: 0.5280 - val_accuracy: 0.7352\n",
            "Epoch 56/100\n",
            "1407/1407 [==============================] - 6s 4ms/step - loss: 0.5380 - accuracy: 0.7230 - val_loss: 0.5252 - val_accuracy: 0.7353\n",
            "Epoch 57/100\n",
            "1407/1407 [==============================] - 7s 5ms/step - loss: 0.5379 - accuracy: 0.7236 - val_loss: 0.5243 - val_accuracy: 0.7362\n",
            "Epoch 58/100\n",
            "1407/1407 [==============================] - 6s 4ms/step - loss: 0.5374 - accuracy: 0.7246 - val_loss: 0.5249 - val_accuracy: 0.7353\n",
            "Epoch 59/100\n",
            "1407/1407 [==============================] - 7s 5ms/step - loss: 0.5379 - accuracy: 0.7237 - val_loss: 0.5269 - val_accuracy: 0.7370\n",
            "Epoch 60/100\n",
            "1407/1407 [==============================] - 6s 4ms/step - loss: 0.5370 - accuracy: 0.7249 - val_loss: 0.5245 - val_accuracy: 0.7356\n",
            "Epoch 61/100\n",
            "1407/1407 [==============================] - 7s 5ms/step - loss: 0.5372 - accuracy: 0.7247 - val_loss: 0.5250 - val_accuracy: 0.7360\n",
            "Epoch 62/100\n",
            "1407/1407 [==============================] - 6s 4ms/step - loss: 0.5371 - accuracy: 0.7242 - val_loss: 0.5246 - val_accuracy: 0.7365\n",
            "Epoch 63/100\n",
            "1407/1407 [==============================] - 7s 5ms/step - loss: 0.5369 - accuracy: 0.7239 - val_loss: 0.5258 - val_accuracy: 0.7364\n",
            "Epoch 64/100\n",
            "1407/1407 [==============================] - 6s 4ms/step - loss: 0.5365 - accuracy: 0.7251 - val_loss: 0.5266 - val_accuracy: 0.7368\n",
            "Epoch 65/100\n",
            "1407/1407 [==============================] - 7s 5ms/step - loss: 0.5369 - accuracy: 0.7245 - val_loss: 0.5275 - val_accuracy: 0.7363\n",
            "Epoch 66/100\n",
            "1407/1407 [==============================] - 6s 4ms/step - loss: 0.5370 - accuracy: 0.7245 - val_loss: 0.5274 - val_accuracy: 0.7361\n",
            "Epoch 67/100\n",
            "1407/1407 [==============================] - 7s 5ms/step - loss: 0.5367 - accuracy: 0.7245 - val_loss: 0.5257 - val_accuracy: 0.7370\n",
            "Epoch 68/100\n",
            "1407/1407 [==============================] - 6s 4ms/step - loss: 0.5367 - accuracy: 0.7246 - val_loss: 0.5254 - val_accuracy: 0.7364\n",
            "Epoch 69/100\n",
            "1407/1407 [==============================] - 7s 5ms/step - loss: 0.5366 - accuracy: 0.7248 - val_loss: 0.5271 - val_accuracy: 0.7371\n",
            "Epoch 70/100\n",
            "1407/1407 [==============================] - 7s 5ms/step - loss: 0.5370 - accuracy: 0.7249 - val_loss: 0.5272 - val_accuracy: 0.7366\n",
            "Epoch 71/100\n",
            "1407/1407 [==============================] - 6s 4ms/step - loss: 0.5369 - accuracy: 0.7240 - val_loss: 0.5289 - val_accuracy: 0.7369\n",
            "Epoch 72/100\n",
            "1407/1407 [==============================] - 7s 5ms/step - loss: 0.5369 - accuracy: 0.7250 - val_loss: 0.5268 - val_accuracy: 0.7358\n",
            "Epoch 73/100\n",
            "1407/1407 [==============================] - 6s 4ms/step - loss: 0.5366 - accuracy: 0.7248 - val_loss: 0.5271 - val_accuracy: 0.7365\n",
            "Epoch 74/100\n",
            "1407/1407 [==============================] - 7s 5ms/step - loss: 0.5358 - accuracy: 0.7256 - val_loss: 0.5302 - val_accuracy: 0.7367\n",
            "Epoch 75/100\n",
            "1407/1407 [==============================] - 6s 4ms/step - loss: 0.5371 - accuracy: 0.7246 - val_loss: 0.5281 - val_accuracy: 0.7365\n",
            "Epoch 76/100\n",
            "1407/1407 [==============================] - 7s 5ms/step - loss: 0.5357 - accuracy: 0.7248 - val_loss: 0.5273 - val_accuracy: 0.7378\n",
            "Epoch 77/100\n",
            "1407/1407 [==============================] - 6s 4ms/step - loss: 0.5362 - accuracy: 0.7253 - val_loss: 0.5285 - val_accuracy: 0.7365\n",
            "Epoch 78/100\n",
            "1407/1407 [==============================] - 7s 5ms/step - loss: 0.5362 - accuracy: 0.7249 - val_loss: 0.5259 - val_accuracy: 0.7369\n",
            "Epoch 79/100\n",
            "1407/1407 [==============================] - 6s 4ms/step - loss: 0.5356 - accuracy: 0.7261 - val_loss: 0.5250 - val_accuracy: 0.7376\n",
            "Epoch 80/100\n",
            "1407/1407 [==============================] - 7s 5ms/step - loss: 0.5362 - accuracy: 0.7254 - val_loss: 0.5262 - val_accuracy: 0.7369\n",
            "Epoch 81/100\n",
            "1407/1407 [==============================] - 6s 4ms/step - loss: 0.5354 - accuracy: 0.7261 - val_loss: 0.5260 - val_accuracy: 0.7376\n",
            "Epoch 82/100\n",
            "1407/1407 [==============================] - 6s 5ms/step - loss: 0.5350 - accuracy: 0.7258 - val_loss: 0.5251 - val_accuracy: 0.7362\n",
            "Epoch 83/100\n",
            "1407/1407 [==============================] - 6s 4ms/step - loss: 0.5358 - accuracy: 0.7245 - val_loss: 0.5267 - val_accuracy: 0.7371\n",
            "Epoch 84/100\n",
            "1407/1407 [==============================] - 7s 5ms/step - loss: 0.5354 - accuracy: 0.7248 - val_loss: 0.5261 - val_accuracy: 0.7368\n",
            "Epoch 85/100\n",
            "1407/1407 [==============================] - 6s 4ms/step - loss: 0.5358 - accuracy: 0.7257 - val_loss: 0.5243 - val_accuracy: 0.7381\n",
            "Epoch 86/100\n",
            "1407/1407 [==============================] - 7s 5ms/step - loss: 0.5358 - accuracy: 0.7254 - val_loss: 0.5272 - val_accuracy: 0.7373\n",
            "Epoch 87/100\n",
            "1407/1407 [==============================] - 6s 4ms/step - loss: 0.5355 - accuracy: 0.7255 - val_loss: 0.5272 - val_accuracy: 0.7364\n",
            "Epoch 88/100\n",
            "1407/1407 [==============================] - 7s 5ms/step - loss: 0.5352 - accuracy: 0.7258 - val_loss: 0.5268 - val_accuracy: 0.7362\n",
            "Epoch 89/100\n",
            "1407/1407 [==============================] - 6s 4ms/step - loss: 0.5350 - accuracy: 0.7261 - val_loss: 0.5262 - val_accuracy: 0.7371\n",
            "Epoch 90/100\n",
            "1407/1407 [==============================] - 7s 5ms/step - loss: 0.5351 - accuracy: 0.7255 - val_loss: 0.5248 - val_accuracy: 0.7374\n",
            "Epoch 91/100\n",
            "1407/1407 [==============================] - 6s 4ms/step - loss: 0.5358 - accuracy: 0.7251 - val_loss: 0.5259 - val_accuracy: 0.7367\n",
            "Epoch 92/100\n",
            "1407/1407 [==============================] - 7s 5ms/step - loss: 0.5353 - accuracy: 0.7263 - val_loss: 0.5277 - val_accuracy: 0.7366\n",
            "Epoch 93/100\n",
            "1407/1407 [==============================] - 7s 5ms/step - loss: 0.5350 - accuracy: 0.7262 - val_loss: 0.5253 - val_accuracy: 0.7375\n",
            "Epoch 94/100\n",
            "1407/1407 [==============================] - 6s 5ms/step - loss: 0.5350 - accuracy: 0.7258 - val_loss: 0.5274 - val_accuracy: 0.7378\n",
            "Epoch 95/100\n",
            "1407/1407 [==============================] - 7s 5ms/step - loss: 0.5349 - accuracy: 0.7259 - val_loss: 0.5260 - val_accuracy: 0.7372\n",
            "Epoch 96/100\n",
            "1407/1407 [==============================] - 6s 4ms/step - loss: 0.5349 - accuracy: 0.7258 - val_loss: 0.5280 - val_accuracy: 0.7369\n",
            "Epoch 97/100\n",
            "1407/1407 [==============================] - 7s 5ms/step - loss: 0.5352 - accuracy: 0.7259 - val_loss: 0.5255 - val_accuracy: 0.7373\n",
            "Epoch 98/100\n",
            "1407/1407 [==============================] - 6s 4ms/step - loss: 0.5347 - accuracy: 0.7264 - val_loss: 0.5294 - val_accuracy: 0.7378\n",
            "Epoch 99/100\n",
            "1407/1407 [==============================] - 7s 5ms/step - loss: 0.5355 - accuracy: 0.7259 - val_loss: 0.5253 - val_accuracy: 0.7375\n",
            "Epoch 100/100\n",
            "1407/1407 [==============================] - 6s 4ms/step - loss: 0.5349 - accuracy: 0.7259 - val_loss: 0.5280 - val_accuracy: 0.7370\n"
          ]
        }
      ]
    },
    {
      "cell_type": "markdown",
      "source": [
        "## Make predictions on the test data and evaluate the model performance\n",
        "This code uses the Histogram Gradient Boosting Classifier model that was previously trained to make predictions on the test data."
      ],
      "metadata": {
        "id": "GiCJn9cXUtpo"
      }
    },
    {
      "cell_type": "code",
      "source": [
        "# Evaluate the model on the test set\n",
        "y_test_pred = model.predict(X_test)\n",
        "y_test_pred_classes = (y_test_pred > 0.5).astype(int)\n",
        "test_accuracy = accuracy_score(y_test, y_test_pred_classes)\n",
        "print(f\"Test Accuracy: {test_accuracy * 100:.2f}%\")"
      ],
      "metadata": {
        "colab": {
          "base_uri": "https://localhost:8080/"
        },
        "id": "IOWQFTtEUuem",
        "outputId": "e0078b26-3d2d-4c35-f24f-f0fff9a77241"
      },
      "execution_count": 11,
      "outputs": [
        {
          "output_type": "stream",
          "name": "stdout",
          "text": [
            "3750/3750 [==============================] - 4s 1ms/step\n",
            "Test Accuracy: 73.59%\n"
          ]
        }
      ]
    }
  ]
}