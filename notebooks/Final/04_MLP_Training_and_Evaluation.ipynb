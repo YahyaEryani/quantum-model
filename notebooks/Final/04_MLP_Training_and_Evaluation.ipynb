{
  "nbformat": 4,
  "nbformat_minor": 0,
  "metadata": {
    "colab": {
      "provenance": [],
      "authorship_tag": "ABX9TyM3cV/lGGuwslmeZqeR850T",
      "include_colab_link": true
    },
    "kernelspec": {
      "name": "python3",
      "display_name": "Python 3"
    },
    "language_info": {
      "name": "python"
    }
  },
  "cells": [
    {
      "cell_type": "markdown",
      "metadata": {
        "id": "view-in-github",
        "colab_type": "text"
      },
      "source": [
        "<a href=\"https://colab.research.google.com/github/YahyaEryani/quantum-model/blob/main/notebooks/04_MLP_Training_and_Evaluation.ipynb\" target=\"_parent\"><img src=\"https://colab.research.google.com/assets/colab-badge.svg\" alt=\"Open In Colab\"/></a>"
      ]
    },
    {
      "cell_type": "markdown",
      "source": [
        "# Model Training, Tuning, and Evaluation\n",
        " In this notebook, we will train a multilayer perceptron (MLP) model on the Higgs boson dataset we have preprocessed in the `01_data_exploration` notebook. We will perform the model training and tuning process to obtain the best model with the highest accuracy possible."
      ],
      "metadata": {
        "id": "Kogj2gRg_ygY"
      }
    },
    {
      "cell_type": "code",
      "execution_count": 16,
      "metadata": {
        "id": "w6a9lis0_xBr"
      },
      "outputs": [],
      "source": [
        "import numpy as np\n",
        "import tensorflow as tf\n",
        "from sklearn.model_selection import train_test_split\n",
        "from tensorflow.keras.models import Sequential\n",
        "from tensorflow.keras.layers import Dense, Dropout,BatchNormalization\n",
        "from tensorflow.keras.optimizers import Adam\n",
        "from sklearn.preprocessing import StandardScaler\n",
        "from tensorflow.keras.regularizers import l2\n",
        "from tensorflow.keras.callbacks import EarlyStopping, LearningRateScheduler\n",
        "from tensorflow.keras.initializers import GlorotUniform\n",
        "from sklearn.metrics import accuracy_score, precision_score,recall_score, f1_score, confusion_matrix, classification_report, roc_auc_score\n",
        "import matplotlib.pyplot as plt"
      ]
    },
    {
      "cell_type": "markdown",
      "source": [
        "## Loading Data\n",
        "\n",
        "This code cell loads the training, validation, and test datasets that were saved in pickle format to the local directory."
      ],
      "metadata": {
        "id": "9bqpbx2gQjLz"
      }
    },
    {
      "cell_type": "code",
      "source": [
        "# Mount Google Drive in Colab\n",
        "from google.colab import drive\n",
        "import pandas as pd\n",
        "\n",
        "drive.mount('/content/drive')\n",
        "\n",
        "# Load data from Google Drive\n",
        "train_path = '/content/drive/MyDrive/Higgs_dataset/processed/training_data.pkl'\n",
        "val_path   = '/content/drive/MyDrive/Higgs_dataset/processed/validation_data.pkl'\n",
        "test_path  = '/content/drive/MyDrive/Higgs_dataset/processed/testing_data.pkl'"
      ],
      "metadata": {
        "colab": {
          "base_uri": "https://localhost:8080/"
        },
        "id": "FiencA2kQjrk",
        "outputId": "db997177-8c54-4a23-e10c-1a9712f4bd6f"
      },
      "execution_count": 14,
      "outputs": [
        {
          "output_type": "stream",
          "name": "stdout",
          "text": [
            "Drive already mounted at /content/drive; to attempt to forcibly remount, call drive.mount(\"/content/drive\", force_remount=True).\n"
          ]
        }
      ]
    },
    {
      "cell_type": "markdown",
      "source": [
        "## Prepare the data for training\n",
        "This code separates the features and class labels from the train, validation, and test datasets."
      ],
      "metadata": {
        "id": "3yLmYroWSLXz"
      }
    },
    {
      "cell_type": "code",
      "source": [
        "# Separate features and labels\n",
        "y_train = train_data['class_label']\n",
        "X_train = train_data.drop('class_label', axis=1)\n",
        "y_val = val_data['class_label']\n",
        "X_val = val_data.drop('class_label', axis=1)\n",
        "y_test = test_data['class_label']\n",
        "X_test = test_data.drop('class_label', axis=1)"
      ],
      "metadata": {
        "id": "ixKPLwWDSLtn"
      },
      "execution_count": 8,
      "outputs": []
    },
    {
      "cell_type": "markdown",
      "source": [
        "##Train the multilayer perceptron model\n",
        "This code sets the hyperparameters for an MLP model, including the number of hidden layers, number of neurons per layer, activation functions, and dropout rates. It then trains the MLP model using the Adam optimizer with a specified learning rate, batch size, and number of epochs. Additionally, the model performance is monitored using the validation set during training."
      ],
      "metadata": {
        "id": "tTG24NPLTaOd"
      }
    },
    {
      "cell_type": "code",
      "source": [
        "# Define a learning rate schedule\n",
        "def lr_schedule(epoch):\n",
        "    if epoch < 10:\n",
        "        return 0.001\n",
        "    else:\n",
        "        return 0.001 * np.exp(0.1 * (10 - epoch))\n",
        "\n",
        "# Normalize the input data\n",
        "scaler = StandardScaler()\n",
        "X_train = scaler.fit_transform(X_train)\n",
        "X_val = scaler.transform(X_val)\n",
        "X_test = scaler.transform(X_test)\n",
        "\n",
        "# Define the model\n",
        "model = Sequential()\n",
        "model.add(Dense(1024, input_dim=28, activation='relu', kernel_initializer=GlorotUniform()))\n",
        "model.add(BatchNormalization())\n",
        "model.add(Dropout(0.3))\n",
        "model.add(Dense(512, activation='relu', kernel_initializer=GlorotUniform()))\n",
        "model.add(BatchNormalization())\n",
        "model.add(Dropout(0.3))\n",
        "model.add(Dense(256, activation='relu', kernel_initializer=GlorotUniform()))\n",
        "model.add(BatchNormalization())\n",
        "model.add(Dropout(0.3))\n",
        "model.add(Dense(128, activation='relu', kernel_initializer=GlorotUniform()))\n",
        "model.add(BatchNormalization())\n",
        "model.add(Dropout(0.3))\n",
        "model.add(Dense(64, activation='relu', kernel_initializer=GlorotUniform()))\n",
        "model.add(Dense(1, activation='sigmoid'))\n",
        "\n",
        "# Compile the model\n",
        "optimizer = Adam(learning_rate=0.001)\n",
        "model.compile(loss='binary_crossentropy', optimizer=optimizer, metrics=['accuracy'])\n",
        "\n",
        "# Learning rate schedule callback\n",
        "lr_scheduler = LearningRateScheduler(lr_schedule)\n",
        "\n",
        "# Early stopping callback\n",
        "es = EarlyStopping(monitor='val_loss', mode='min', verbose=1, patience=10)\n",
        "\n",
        "# Train the model\n",
        "history = model.fit(X_train, y_train, epochs=50, batch_size=128, validation_data=(X_val, y_val), callbacks=[lr_scheduler, es])"
      ],
      "metadata": {
        "colab": {
          "base_uri": "https://localhost:8080/"
        },
        "id": "su6E8xU8Tb-m",
        "outputId": "5f0c8274-ef40-4628-a262-4d6d522baae3"
      },
      "execution_count": 9,
      "outputs": [
        {
          "output_type": "stream",
          "name": "stdout",
          "text": [
            "Epoch 1/50\n",
            "3282/3282 [==============================] - 184s 42ms/step - loss: 0.5910 - accuracy: 0.6823 - val_loss: 0.5463 - val_accuracy: 0.7177 - lr: 0.0010\n",
            "Epoch 2/50\n",
            "3282/3282 [==============================] - 138s 42ms/step - loss: 0.5488 - accuracy: 0.7173 - val_loss: 0.5306 - val_accuracy: 0.7293 - lr: 0.0010\n",
            "Epoch 3/50\n",
            "3282/3282 [==============================] - 138s 42ms/step - loss: 0.5378 - accuracy: 0.7250 - val_loss: 0.5234 - val_accuracy: 0.7345 - lr: 0.0010\n",
            "Epoch 4/50\n",
            "3282/3282 [==============================] - 134s 41ms/step - loss: 0.5289 - accuracy: 0.7309 - val_loss: 0.5157 - val_accuracy: 0.7392 - lr: 0.0010\n",
            "Epoch 5/50\n",
            "3282/3282 [==============================] - 134s 41ms/step - loss: 0.5230 - accuracy: 0.7356 - val_loss: 0.5090 - val_accuracy: 0.7430 - lr: 0.0010\n",
            "Epoch 6/50\n",
            "3282/3282 [==============================] - 136s 41ms/step - loss: 0.5170 - accuracy: 0.7394 - val_loss: 0.5070 - val_accuracy: 0.7454 - lr: 0.0010\n",
            "Epoch 7/50\n",
            "3282/3282 [==============================] - 135s 41ms/step - loss: 0.5143 - accuracy: 0.7407 - val_loss: 0.5038 - val_accuracy: 0.7483 - lr: 0.0010\n",
            "Epoch 8/50\n",
            "3282/3282 [==============================] - 133s 41ms/step - loss: 0.5101 - accuracy: 0.7443 - val_loss: 0.5005 - val_accuracy: 0.7492 - lr: 0.0010\n",
            "Epoch 9/50\n",
            "3282/3282 [==============================] - 133s 41ms/step - loss: 0.5078 - accuracy: 0.7461 - val_loss: 0.5005 - val_accuracy: 0.7508 - lr: 0.0010\n",
            "Epoch 10/50\n",
            "3282/3282 [==============================] - 139s 42ms/step - loss: 0.5050 - accuracy: 0.7472 - val_loss: 0.4978 - val_accuracy: 0.7524 - lr: 0.0010\n",
            "Epoch 11/50\n",
            "3282/3282 [==============================] - 134s 41ms/step - loss: 0.5026 - accuracy: 0.7483 - val_loss: 0.4959 - val_accuracy: 0.7536 - lr: 0.0010\n",
            "Epoch 12/50\n",
            "3282/3282 [==============================] - 140s 43ms/step - loss: 0.5001 - accuracy: 0.7499 - val_loss: 0.4943 - val_accuracy: 0.7540 - lr: 9.0484e-04\n",
            "Epoch 13/50\n",
            "3282/3282 [==============================] - 136s 41ms/step - loss: 0.4970 - accuracy: 0.7528 - val_loss: 0.4925 - val_accuracy: 0.7556 - lr: 8.1873e-04\n",
            "Epoch 14/50\n",
            "3282/3282 [==============================] - 134s 41ms/step - loss: 0.4941 - accuracy: 0.7539 - val_loss: 0.4909 - val_accuracy: 0.7559 - lr: 7.4082e-04\n",
            "Epoch 15/50\n",
            "3282/3282 [==============================] - 138s 42ms/step - loss: 0.4918 - accuracy: 0.7560 - val_loss: 0.4899 - val_accuracy: 0.7574 - lr: 6.7032e-04\n",
            "Epoch 16/50\n",
            "3282/3282 [==============================] - 136s 42ms/step - loss: 0.4886 - accuracy: 0.7579 - val_loss: 0.4889 - val_accuracy: 0.7579 - lr: 6.0653e-04\n",
            "Epoch 17/50\n",
            "3282/3282 [==============================] - 135s 41ms/step - loss: 0.4867 - accuracy: 0.7593 - val_loss: 0.4879 - val_accuracy: 0.7583 - lr: 5.4881e-04\n",
            "Epoch 18/50\n",
            "3282/3282 [==============================] - 136s 41ms/step - loss: 0.4847 - accuracy: 0.7611 - val_loss: 0.4893 - val_accuracy: 0.7561 - lr: 4.9659e-04\n",
            "Epoch 19/50\n",
            "3282/3282 [==============================] - 138s 42ms/step - loss: 0.4827 - accuracy: 0.7621 - val_loss: 0.4875 - val_accuracy: 0.7569 - lr: 4.4933e-04\n",
            "Epoch 20/50\n",
            "3282/3282 [==============================] - 141s 43ms/step - loss: 0.4809 - accuracy: 0.7629 - val_loss: 0.4879 - val_accuracy: 0.7584 - lr: 4.0657e-04\n",
            "Epoch 21/50\n",
            "3282/3282 [==============================] - 137s 42ms/step - loss: 0.4789 - accuracy: 0.7635 - val_loss: 0.4872 - val_accuracy: 0.7585 - lr: 3.6788e-04\n",
            "Epoch 22/50\n",
            "3282/3282 [==============================] - 141s 43ms/step - loss: 0.4771 - accuracy: 0.7655 - val_loss: 0.4859 - val_accuracy: 0.7594 - lr: 3.3287e-04\n",
            "Epoch 23/50\n",
            "3282/3282 [==============================] - 136s 41ms/step - loss: 0.4758 - accuracy: 0.7657 - val_loss: 0.4862 - val_accuracy: 0.7593 - lr: 3.0119e-04\n",
            "Epoch 24/50\n",
            "3282/3282 [==============================] - 135s 41ms/step - loss: 0.4750 - accuracy: 0.7665 - val_loss: 0.4861 - val_accuracy: 0.7605 - lr: 2.7253e-04\n",
            "Epoch 25/50\n",
            "3282/3282 [==============================] - 135s 41ms/step - loss: 0.4735 - accuracy: 0.7676 - val_loss: 0.4864 - val_accuracy: 0.7606 - lr: 2.4660e-04\n",
            "Epoch 26/50\n",
            "3282/3282 [==============================] - 141s 43ms/step - loss: 0.4719 - accuracy: 0.7689 - val_loss: 0.4856 - val_accuracy: 0.7601 - lr: 2.2313e-04\n",
            "Epoch 27/50\n",
            "3282/3282 [==============================] - 136s 41ms/step - loss: 0.4706 - accuracy: 0.7697 - val_loss: 0.4856 - val_accuracy: 0.7599 - lr: 2.0190e-04\n",
            "Epoch 28/50\n",
            "3282/3282 [==============================] - 135s 41ms/step - loss: 0.4701 - accuracy: 0.7698 - val_loss: 0.4865 - val_accuracy: 0.7597 - lr: 1.8268e-04\n",
            "Epoch 29/50\n",
            "3282/3282 [==============================] - 136s 41ms/step - loss: 0.4690 - accuracy: 0.7706 - val_loss: 0.4860 - val_accuracy: 0.7603 - lr: 1.6530e-04\n",
            "Epoch 30/50\n",
            "3282/3282 [==============================] - 138s 42ms/step - loss: 0.4680 - accuracy: 0.7709 - val_loss: 0.4875 - val_accuracy: 0.7605 - lr: 1.4957e-04\n",
            "Epoch 31/50\n",
            "3282/3282 [==============================] - 141s 43ms/step - loss: 0.4675 - accuracy: 0.7716 - val_loss: 0.4862 - val_accuracy: 0.7603 - lr: 1.3534e-04\n",
            "Epoch 32/50\n",
            "3282/3282 [==============================] - 136s 41ms/step - loss: 0.4670 - accuracy: 0.7711 - val_loss: 0.4862 - val_accuracy: 0.7602 - lr: 1.2246e-04\n",
            "Epoch 33/50\n",
            "3282/3282 [==============================] - 140s 43ms/step - loss: 0.4657 - accuracy: 0.7720 - val_loss: 0.4862 - val_accuracy: 0.7605 - lr: 1.1080e-04\n",
            "Epoch 34/50\n",
            "3282/3282 [==============================] - 139s 42ms/step - loss: 0.4654 - accuracy: 0.7726 - val_loss: 0.4863 - val_accuracy: 0.7605 - lr: 1.0026e-04\n",
            "Epoch 35/50\n",
            "3282/3282 [==============================] - 140s 43ms/step - loss: 0.4653 - accuracy: 0.7724 - val_loss: 0.4864 - val_accuracy: 0.7604 - lr: 9.0718e-05\n",
            "Epoch 36/50\n",
            "3282/3282 [==============================] - 139s 42ms/step - loss: 0.4639 - accuracy: 0.7730 - val_loss: 0.4865 - val_accuracy: 0.7605 - lr: 8.2085e-05\n",
            "Epoch 36: early stopping\n"
          ]
        }
      ]
    },
    {
      "cell_type": "markdown",
      "source": [
        "## Make predictions on the test data and evaluate the model performance\n",
        "This code uses the Histogram Gradient Boosting Classifier model that was previously trained to make predictions on the test data."
      ],
      "metadata": {
        "id": "GiCJn9cXUtpo"
      }
    },
    {
      "cell_type": "code",
      "source": [
        "# Evaluate the model on the test set\n",
        "test_loss, test_acc = model.evaluate(X_test, y_test)\n",
        "print(f\"Test loss: {test_loss:.4f}\")\n",
        "print(f\"Test accuracy: {test_acc:.4f}\")\n",
        "\n",
        "test_pred = model.predict(X_test)\n",
        "test_pred_binary = (test_pred >= 0.5).astype(int)\n",
        "test_auc = roc_auc_score(y_test, test_pred)\n",
        "test_f1 = f1_score(y_test, test_pred_binary)\n",
        "\n",
        "print(f\"Test AUC: {test_auc:.4f}\")\n",
        "print(f\"Test F1 score: {test_f1:.4f}\")"
      ],
      "metadata": {
        "colab": {
          "base_uri": "https://localhost:8080/"
        },
        "id": "IOWQFTtEUuem",
        "outputId": "cc5922a3-b065-4f59-9561-dfeda68073f7"
      },
      "execution_count": 13,
      "outputs": [
        {
          "output_type": "stream",
          "name": "stdout",
          "text": [
            "2813/2813 [==============================] - 13s 5ms/step - loss: 0.4864 - accuracy: 0.7614\n",
            "Test loss: 0.4864\n",
            "Test accuracy: 0.7614\n",
            "2813/2813 [==============================] - 12s 4ms/step\n",
            "Test AUC: 0.8443\n",
            "Test F1 score: 0.7772\n"
          ]
        }
      ]
    },
    {
      "cell_type": "code",
      "source": [
        "# Plot the learning curve\n",
        "plt.plot(history.history['accuracy'], label='Training accuracy')\n",
        "plt.plot(history.history['val_accuracy'], label='Validation accuracy')\n",
        "plt.title('Learning Curve')\n",
        "plt.xlabel('Epoch')\n",
        "plt.ylabel('Accuracy')\n",
        "plt.legend()\n",
        "plt.show()"
      ],
      "metadata": {
        "id": "tvDaj_4SeOri",
        "outputId": "97ea7cf6-5c02-42e4-f377-5d00df900dbf",
        "colab": {
          "base_uri": "https://localhost:8080/",
          "height": 472
        }
      },
      "execution_count": 17,
      "outputs": [
        {
          "output_type": "display_data",
          "data": {
            "text/plain": [
              "<Figure size 640x480 with 1 Axes>"
            ],
            "image/png": "[encoded data removed]"
          },
          "metadata": {}
        }
      ]
    },
    {
      "cell_type": "code",
      "source": [
        "#Save the entire model to an H5 file\n",
        "model.save(\"quantum_mlp_model.h5\")"
      ],
      "metadata": {
        "id": "FVVEjmcNfU_W"
      },
      "execution_count": 18,
      "outputs": []
    }
  ]
}