{
  "nbformat": 4,
  "nbformat_minor": 0,
  "metadata": {
    "colab": {
      "provenance": []
    },
    "kernelspec": {
      "name": "python3",
      "display_name": "Python 3"
    },
    "language_info": {
      "name": "python"
    }
  },
  "cells": [
    {
      "cell_type": "markdown",
      "source": [
        "# **Model Training and Tuning**\n",
        "\n",
        "In this notebook, we will train a Random Forest (RF) model on the Higgs boson dataset we have preprocessed in the previous notebook `01_data_exploration`. We will perform the model training and tuning process to obtain the best model with the highest accuracy possible."
      ],
      "metadata": {
        "id": "8ir-lge_KERD"
      }
    },
    {
      "cell_type": "markdown",
      "source": [
        "## **Importing Libraries**\n",
        "\n",
        "In this section, we will import the necessary libraries and packages that will be used throughout the notebook."
      ],
      "metadata": {
        "id": "Ha1I4rhGKWO4"
      }
    },
    {
      "cell_type": "code",
      "execution_count": null,
      "metadata": {
        "id": "T5ctK12ieGfS"
      },
      "outputs": [],
      "source": [
        "from sklearn.ensemble import RandomForestClassifier\n",
        "from sklearn.model_selection import train_test_split\n",
        "import pandas as pd\n",
        "import numpy as np\n",
        "import matplotlib.pyplot as plt\n",
        "from sklearn.metrics import accuracy_score, precision_score,recall_score, f1_score, confusion_matrix, classification_report, roc_auc_score\n",
        "from sklearn.model_selection import GridSearchCV\n",
        "from sklearn.preprocessing import StandardScaler"
      ]
    },
    {
      "cell_type": "markdown",
      "source": [
        "## **Loading Data**\n",
        "\n",
        "This code cell loads the training, validation, and test datasets that were saved in pkl format to the local directory."
      ],
      "metadata": {
        "id": "EoCBB6G8PTIc"
      }
    },
    {
      "cell_type": "code",
      "source": [
        "# Mount Google Drive in Colab\n",
        "from google.colab import drive\n",
        "import pandas as pd\n",
        "\n",
        "drive.mount('/content/drive')\n",
        "\n",
        "# Load data from Google Drive\n",
        "train_path = '/content/drive/MyDrive/Colab Notebooks/training_data.pkl'\n",
        "val_path   = '/content/drive/MyDrive/Colab Notebooks/validation_data.pkl'\n",
        "test_path  = '/content/drive/MyDrive/Colab Notebooks/testing_data.pkl'\n",
        "\n",
        "train_data = pd.read_pickle(train_path)\n",
        "val_data = pd.read_pickle(val_path)\n",
        "test_data = pd.read_pickle(test_path)"
      ],
      "metadata": {
        "colab": {
          "base_uri": "https://localhost:8080/"
        },
        "id": "6kzFjZSqPYPX",
        "outputId": "b6e5c408-03af-4df5-9c82-e6ac42ce2e21"
      },
      "execution_count": null,
      "outputs": [
        {
          "output_type": "stream",
          "name": "stdout",
          "text": [
            "Mounted at /content/drive\n"
          ]
        }
      ]
    },
    {
      "cell_type": "markdown",
      "source": [
        "## **Prepare the data for training**\n",
        "This code separates the features and class labels from the train, validation, and test datasets."
      ],
      "metadata": {
        "id": "jWV8PMlfTvYJ"
      }
    },
    {
      "cell_type": "code",
      "source": [
        "# Separate features and labels\n",
        "y_train = train_data['class_label']\n",
        "X_train = train_data.drop('class_label', axis=1)\n",
        "y_val = val_data['class_label']\n",
        "X_val = val_data.drop('class_label', axis=1)\n",
        "y_test = test_data['class_label']\n",
        "X_test = test_data.drop('class_label', axis=1)\n"
      ],
      "metadata": {
        "id": "F8GRdxxKT3k-"
      },
      "execution_count": null,
      "outputs": []
    },
    {
      "cell_type": "code",
      "source": [
        "#Normalize the data\n",
        "# # Normalize the feature columns\n",
        "scaler = StandardScaler()\n",
        "scaler = scaler.fit(X_train)\n",
        "X_train=scaler.transform(X_train)\n",
        "X_val=scaler.transform(X_val)\n",
        "X_test=scaler.transform(X_test)"
      ],
      "metadata": {
        "id": "OF0Go8Nahnt8"
      },
      "execution_count": null,
      "outputs": []
    },
    {
      "cell_type": "markdown",
      "source": [
        "## **Train the RF model**\n",
        "This code sets the hyperparameters for an RF model, including the required number of trees in the Random Forest and the function to measure the quality of a split and the maximum depth of RF."
      ],
      "metadata": {
        "id": "iewCxUhFUMqM"
      }
    },
    {
      "cell_type": "markdown",
      "source": [
        "## **Model Evaluation**\n",
        "## Make predictions on the test data and evaluate the model performance\n",
        "This code uses the RF model that was previously trained to make predictions on the test data."
      ],
      "metadata": {
        "id": "WPvsjfHRpLB3"
      }
    },
    {
      "cell_type": "code",
      "source": [],
      "metadata": {
        "id": "xoCmQtt_pawE"
      },
      "execution_count": null,
      "outputs": []
    },
    {
      "cell_type": "code",
      "source": [
        "from sklearn.ensemble import RandomForestClassifier\n",
        "clf = RandomForestClassifier(n_estimators=100, random_state=42)"
      ],
      "metadata": {
        "id": "IH5Hpo34t1ad"
      },
      "execution_count": null,
      "outputs": []
    },
    {
      "cell_type": "code",
      "source": [
        "from sklearn.model_selection import RandomizedSearchCV\n",
        "from sklearn.feature_selection import RFE\n",
        "\n",
        "param_grid = {'n_estimators': [50, 100, 200],\n",
        "              'max_depth': [5, 10, 20],\n",
        "              'min_samples_split': [2, 5, 10],\n",
        "              'min_samples_leaf': [1, 2, 4],\n",
        "              'max_features': ['auto', 'sqrt', 'log2']}\n",
        "\n",
        "rf_model = RandomForestClassifier()\n",
        "\n",
        "# Create an RFE object with the number of features to select\n",
        "rfe = RFE(rf_model, n_features_to_select=7)\n",
        "\n",
        "# Fit the RFE model to the data\n",
        "rfe.fit(X_train, y_train)"
      ],
      "metadata": {
        "id": "SIdgYT2xmd6c"
      },
      "execution_count": null,
      "outputs": []
    },
    {
      "cell_type": "code",
      "source": [
        "# Create a RandomizedSearchCV object\n",
        "random_search = RandomizedSearchCV(estimator=rf_model, param_distributions=param_grid, n_iter=10, cv=5, verbose=2, random_state=42)\n",
        "# Fit the RandomizedSearchCV model to the selected features\n",
        "random_search.fit(X_train, y_train)\n",
        "print()\n",
        "print(\"Best hyper parameters\",random_search.best_params_)"
      ],
      "metadata": {
        "colab": {
          "base_uri": "https://localhost:8080/"
        },
        "id": "fEd6Fd8gvGhs",
        "outputId": "54fbd81c-358a-4d15-e01a-385ffc88f4e8"
      },
      "execution_count": null,
      "outputs": [
        {
          "output_type": "stream",
          "name": "stdout",
          "text": [
            "Fitting 5 folds for each of 10 candidates, totalling 50 fits\n"
          ]
        },
        {
          "output_type": "stream",
          "name": "stderr",
          "text": [
            "/usr/local/lib/python3.9/dist-packages/sklearn/ensemble/_forest.py:424: FutureWarning: `max_features='auto'` has been deprecated in 1.1 and will be removed in 1.3. To keep the past behaviour, explicitly set `max_features='sqrt'` or remove this parameter as it is also the default value for RandomForestClassifiers and ExtraTreesClassifiers.\n",
            "  warn(\n"
          ]
        },
        {
          "output_type": "stream",
          "name": "stdout",
          "text": [
            "[CV] END max_depth=5, max_features=auto, min_samples_leaf=4, min_samples_split=10, n_estimators=50; total time=  41.2s\n"
          ]
        },
        {
          "output_type": "stream",
          "name": "stderr",
          "text": [
            "/usr/local/lib/python3.9/dist-packages/sklearn/ensemble/_forest.py:424: FutureWarning: `max_features='auto'` has been deprecated in 1.1 and will be removed in 1.3. To keep the past behaviour, explicitly set `max_features='sqrt'` or remove this parameter as it is also the default value for RandomForestClassifiers and ExtraTreesClassifiers.\n",
            "  warn(\n"
          ]
        },
        {
          "output_type": "stream",
          "name": "stdout",
          "text": [
            "[CV] END max_depth=5, max_features=auto, min_samples_leaf=4, min_samples_split=10, n_estimators=50; total time=  31.8s\n"
          ]
        },
        {
          "output_type": "stream",
          "name": "stderr",
          "text": [
            "/usr/local/lib/python3.9/dist-packages/sklearn/ensemble/_forest.py:424: FutureWarning: `max_features='auto'` has been deprecated in 1.1 and will be removed in 1.3. To keep the past behaviour, explicitly set `max_features='sqrt'` or remove this parameter as it is also the default value for RandomForestClassifiers and ExtraTreesClassifiers.\n",
            "  warn(\n"
          ]
        },
        {
          "output_type": "stream",
          "name": "stdout",
          "text": [
            "[CV] END max_depth=5, max_features=auto, min_samples_leaf=4, min_samples_split=10, n_estimators=50; total time=  31.4s\n"
          ]
        },
        {
          "output_type": "stream",
          "name": "stderr",
          "text": [
            "/usr/local/lib/python3.9/dist-packages/sklearn/ensemble/_forest.py:424: FutureWarning: `max_features='auto'` has been deprecated in 1.1 and will be removed in 1.3. To keep the past behaviour, explicitly set `max_features='sqrt'` or remove this parameter as it is also the default value for RandomForestClassifiers and ExtraTreesClassifiers.\n",
            "  warn(\n"
          ]
        },
        {
          "output_type": "stream",
          "name": "stdout",
          "text": [
            "[CV] END max_depth=5, max_features=auto, min_samples_leaf=4, min_samples_split=10, n_estimators=50; total time=  29.1s\n"
          ]
        },
        {
          "output_type": "stream",
          "name": "stderr",
          "text": [
            "/usr/local/lib/python3.9/dist-packages/sklearn/ensemble/_forest.py:424: FutureWarning: `max_features='auto'` has been deprecated in 1.1 and will be removed in 1.3. To keep the past behaviour, explicitly set `max_features='sqrt'` or remove this parameter as it is also the default value for RandomForestClassifiers and ExtraTreesClassifiers.\n",
            "  warn(\n"
          ]
        },
        {
          "output_type": "stream",
          "name": "stdout",
          "text": [
            "[CV] END max_depth=5, max_features=auto, min_samples_leaf=4, min_samples_split=10, n_estimators=50; total time=  27.5s\n"
          ]
        },
        {
          "output_type": "stream",
          "name": "stderr",
          "text": [
            "/usr/local/lib/python3.9/dist-packages/sklearn/ensemble/_forest.py:424: FutureWarning: `max_features='auto'` has been deprecated in 1.1 and will be removed in 1.3. To keep the past behaviour, explicitly set `max_features='sqrt'` or remove this parameter as it is also the default value for RandomForestClassifiers and ExtraTreesClassifiers.\n",
            "  warn(\n"
          ]
        },
        {
          "output_type": "stream",
          "name": "stdout",
          "text": [
            "[CV] END max_depth=5, max_features=auto, min_samples_leaf=1, min_samples_split=10, n_estimators=50; total time=  27.8s\n"
          ]
        },
        {
          "output_type": "stream",
          "name": "stderr",
          "text": [
            "/usr/local/lib/python3.9/dist-packages/sklearn/ensemble/_forest.py:424: FutureWarning: `max_features='auto'` has been deprecated in 1.1 and will be removed in 1.3. To keep the past behaviour, explicitly set `max_features='sqrt'` or remove this parameter as it is also the default value for RandomForestClassifiers and ExtraTreesClassifiers.\n",
            "  warn(\n"
          ]
        },
        {
          "output_type": "stream",
          "name": "stdout",
          "text": [
            "[CV] END max_depth=5, max_features=auto, min_samples_leaf=1, min_samples_split=10, n_estimators=50; total time=  28.5s\n"
          ]
        },
        {
          "output_type": "stream",
          "name": "stderr",
          "text": [
            "/usr/local/lib/python3.9/dist-packages/sklearn/ensemble/_forest.py:424: FutureWarning: `max_features='auto'` has been deprecated in 1.1 and will be removed in 1.3. To keep the past behaviour, explicitly set `max_features='sqrt'` or remove this parameter as it is also the default value for RandomForestClassifiers and ExtraTreesClassifiers.\n",
            "  warn(\n"
          ]
        },
        {
          "output_type": "stream",
          "name": "stdout",
          "text": [
            "[CV] END max_depth=5, max_features=auto, min_samples_leaf=1, min_samples_split=10, n_estimators=50; total time=  29.0s\n"
          ]
        },
        {
          "output_type": "stream",
          "name": "stderr",
          "text": [
            "/usr/local/lib/python3.9/dist-packages/sklearn/ensemble/_forest.py:424: FutureWarning: `max_features='auto'` has been deprecated in 1.1 and will be removed in 1.3. To keep the past behaviour, explicitly set `max_features='sqrt'` or remove this parameter as it is also the default value for RandomForestClassifiers and ExtraTreesClassifiers.\n",
            "  warn(\n"
          ]
        },
        {
          "output_type": "stream",
          "name": "stdout",
          "text": [
            "[CV] END max_depth=5, max_features=auto, min_samples_leaf=1, min_samples_split=10, n_estimators=50; total time=  28.0s\n"
          ]
        },
        {
          "output_type": "stream",
          "name": "stderr",
          "text": [
            "/usr/local/lib/python3.9/dist-packages/sklearn/ensemble/_forest.py:424: FutureWarning: `max_features='auto'` has been deprecated in 1.1 and will be removed in 1.3. To keep the past behaviour, explicitly set `max_features='sqrt'` or remove this parameter as it is also the default value for RandomForestClassifiers and ExtraTreesClassifiers.\n",
            "  warn(\n"
          ]
        },
        {
          "output_type": "stream",
          "name": "stdout",
          "text": [
            "[CV] END max_depth=5, max_features=auto, min_samples_leaf=1, min_samples_split=10, n_estimators=50; total time=  27.5s\n",
            "[CV] END max_depth=10, max_features=log2, min_samples_leaf=2, min_samples_split=10, n_estimators=200; total time= 2.9min\n",
            "[CV] END max_depth=10, max_features=log2, min_samples_leaf=2, min_samples_split=10, n_estimators=200; total time= 3.0min\n",
            "[CV] END max_depth=10, max_features=log2, min_samples_leaf=2, min_samples_split=10, n_estimators=200; total time= 2.9min\n",
            "[CV] END max_depth=10, max_features=log2, min_samples_leaf=2, min_samples_split=10, n_estimators=200; total time= 2.9min\n",
            "[CV] END max_depth=10, max_features=log2, min_samples_leaf=2, min_samples_split=10, n_estimators=200; total time= 2.9min\n",
            "[CV] END max_depth=20, max_features=log2, min_samples_leaf=2, min_samples_split=10, n_estimators=100; total time= 2.7min\n",
            "[CV] END max_depth=20, max_features=log2, min_samples_leaf=2, min_samples_split=10, n_estimators=100; total time= 2.7min\n",
            "[CV] END max_depth=20, max_features=log2, min_samples_leaf=2, min_samples_split=10, n_estimators=100; total time= 2.7min\n",
            "[CV] END max_depth=20, max_features=log2, min_samples_leaf=2, min_samples_split=10, n_estimators=100; total time= 2.9min\n",
            "[CV] END max_depth=20, max_features=log2, min_samples_leaf=2, min_samples_split=10, n_estimators=100; total time= 2.7min\n",
            "[CV] END max_depth=20, max_features=log2, min_samples_leaf=4, min_samples_split=5, n_estimators=100; total time= 2.6min\n",
            "[CV] END max_depth=20, max_features=log2, min_samples_leaf=4, min_samples_split=5, n_estimators=100; total time= 2.6min\n",
            "[CV] END max_depth=20, max_features=log2, min_samples_leaf=4, min_samples_split=5, n_estimators=100; total time= 2.6min\n",
            "[CV] END max_depth=20, max_features=log2, min_samples_leaf=4, min_samples_split=5, n_estimators=100; total time= 2.6min\n",
            "[CV] END max_depth=20, max_features=log2, min_samples_leaf=4, min_samples_split=5, n_estimators=100; total time= 2.6min\n"
          ]
        },
        {
          "output_type": "stream",
          "name": "stderr",
          "text": [
            "/usr/local/lib/python3.9/dist-packages/sklearn/ensemble/_forest.py:424: FutureWarning: `max_features='auto'` has been deprecated in 1.1 and will be removed in 1.3. To keep the past behaviour, explicitly set `max_features='sqrt'` or remove this parameter as it is also the default value for RandomForestClassifiers and ExtraTreesClassifiers.\n",
            "  warn(\n"
          ]
        },
        {
          "output_type": "stream",
          "name": "stdout",
          "text": [
            "[CV] END max_depth=20, max_features=auto, min_samples_leaf=2, min_samples_split=5, n_estimators=100; total time= 3.3min\n"
          ]
        },
        {
          "output_type": "stream",
          "name": "stderr",
          "text": [
            "/usr/local/lib/python3.9/dist-packages/sklearn/ensemble/_forest.py:424: FutureWarning: `max_features='auto'` has been deprecated in 1.1 and will be removed in 1.3. To keep the past behaviour, explicitly set `max_features='sqrt'` or remove this parameter as it is also the default value for RandomForestClassifiers and ExtraTreesClassifiers.\n",
            "  warn(\n"
          ]
        },
        {
          "output_type": "stream",
          "name": "stdout",
          "text": [
            "[CV] END max_depth=20, max_features=auto, min_samples_leaf=2, min_samples_split=5, n_estimators=100; total time= 3.3min\n"
          ]
        },
        {
          "output_type": "stream",
          "name": "stderr",
          "text": [
            "/usr/local/lib/python3.9/dist-packages/sklearn/ensemble/_forest.py:424: FutureWarning: `max_features='auto'` has been deprecated in 1.1 and will be removed in 1.3. To keep the past behaviour, explicitly set `max_features='sqrt'` or remove this parameter as it is also the default value for RandomForestClassifiers and ExtraTreesClassifiers.\n",
            "  warn(\n"
          ]
        },
        {
          "output_type": "stream",
          "name": "stdout",
          "text": [
            "[CV] END max_depth=20, max_features=auto, min_samples_leaf=2, min_samples_split=5, n_estimators=100; total time= 3.3min\n"
          ]
        },
        {
          "output_type": "stream",
          "name": "stderr",
          "text": [
            "/usr/local/lib/python3.9/dist-packages/sklearn/ensemble/_forest.py:424: FutureWarning: `max_features='auto'` has been deprecated in 1.1 and will be removed in 1.3. To keep the past behaviour, explicitly set `max_features='sqrt'` or remove this parameter as it is also the default value for RandomForestClassifiers and ExtraTreesClassifiers.\n",
            "  warn(\n"
          ]
        },
        {
          "output_type": "stream",
          "name": "stdout",
          "text": [
            "[CV] END max_depth=20, max_features=auto, min_samples_leaf=2, min_samples_split=5, n_estimators=100; total time= 3.3min\n"
          ]
        },
        {
          "output_type": "stream",
          "name": "stderr",
          "text": [
            "/usr/local/lib/python3.9/dist-packages/sklearn/ensemble/_forest.py:424: FutureWarning: `max_features='auto'` has been deprecated in 1.1 and will be removed in 1.3. To keep the past behaviour, explicitly set `max_features='sqrt'` or remove this parameter as it is also the default value for RandomForestClassifiers and ExtraTreesClassifiers.\n",
            "  warn(\n"
          ]
        },
        {
          "output_type": "stream",
          "name": "stdout",
          "text": [
            "[CV] END max_depth=20, max_features=auto, min_samples_leaf=2, min_samples_split=5, n_estimators=100; total time= 3.3min\n",
            "[CV] END max_depth=20, max_features=sqrt, min_samples_leaf=4, min_samples_split=10, n_estimators=200; total time= 6.4min\n",
            "[CV] END max_depth=20, max_features=sqrt, min_samples_leaf=4, min_samples_split=10, n_estimators=200; total time= 6.4min\n",
            "[CV] END max_depth=20, max_features=sqrt, min_samples_leaf=4, min_samples_split=10, n_estimators=200; total time= 6.4min\n",
            "[CV] END max_depth=20, max_features=sqrt, min_samples_leaf=4, min_samples_split=10, n_estimators=200; total time= 6.4min\n",
            "[CV] END max_depth=20, max_features=sqrt, min_samples_leaf=4, min_samples_split=10, n_estimators=200; total time= 6.5min\n",
            "[CV] END max_depth=10, max_features=log2, min_samples_leaf=2, min_samples_split=10, n_estimators=50; total time=  43.9s\n",
            "[CV] END max_depth=10, max_features=log2, min_samples_leaf=2, min_samples_split=10, n_estimators=50; total time=  43.8s\n",
            "[CV] END max_depth=10, max_features=log2, min_samples_leaf=2, min_samples_split=10, n_estimators=50; total time=  42.9s\n",
            "[CV] END max_depth=10, max_features=log2, min_samples_leaf=2, min_samples_split=10, n_estimators=50; total time=  43.3s\n",
            "[CV] END max_depth=10, max_features=log2, min_samples_leaf=2, min_samples_split=10, n_estimators=50; total time=  43.9s\n"
          ]
        },
        {
          "output_type": "stream",
          "name": "stderr",
          "text": [
            "/usr/local/lib/python3.9/dist-packages/sklearn/ensemble/_forest.py:424: FutureWarning: `max_features='auto'` has been deprecated in 1.1 and will be removed in 1.3. To keep the past behaviour, explicitly set `max_features='sqrt'` or remove this parameter as it is also the default value for RandomForestClassifiers and ExtraTreesClassifiers.\n",
            "  warn(\n"
          ]
        },
        {
          "output_type": "stream",
          "name": "stdout",
          "text": [
            "[CV] END max_depth=5, max_features=auto, min_samples_leaf=2, min_samples_split=2, n_estimators=50; total time=  27.6s\n"
          ]
        },
        {
          "output_type": "stream",
          "name": "stderr",
          "text": [
            "/usr/local/lib/python3.9/dist-packages/sklearn/ensemble/_forest.py:424: FutureWarning: `max_features='auto'` has been deprecated in 1.1 and will be removed in 1.3. To keep the past behaviour, explicitly set `max_features='sqrt'` or remove this parameter as it is also the default value for RandomForestClassifiers and ExtraTreesClassifiers.\n",
            "  warn(\n"
          ]
        },
        {
          "output_type": "stream",
          "name": "stdout",
          "text": [
            "[CV] END max_depth=5, max_features=auto, min_samples_leaf=2, min_samples_split=2, n_estimators=50; total time=  27.2s\n"
          ]
        },
        {
          "output_type": "stream",
          "name": "stderr",
          "text": [
            "/usr/local/lib/python3.9/dist-packages/sklearn/ensemble/_forest.py:424: FutureWarning: `max_features='auto'` has been deprecated in 1.1 and will be removed in 1.3. To keep the past behaviour, explicitly set `max_features='sqrt'` or remove this parameter as it is also the default value for RandomForestClassifiers and ExtraTreesClassifiers.\n",
            "  warn(\n"
          ]
        },
        {
          "output_type": "stream",
          "name": "stdout",
          "text": [
            "[CV] END max_depth=5, max_features=auto, min_samples_leaf=2, min_samples_split=2, n_estimators=50; total time=  27.4s\n"
          ]
        },
        {
          "output_type": "stream",
          "name": "stderr",
          "text": [
            "/usr/local/lib/python3.9/dist-packages/sklearn/ensemble/_forest.py:424: FutureWarning: `max_features='auto'` has been deprecated in 1.1 and will be removed in 1.3. To keep the past behaviour, explicitly set `max_features='sqrt'` or remove this parameter as it is also the default value for RandomForestClassifiers and ExtraTreesClassifiers.\n",
            "  warn(\n"
          ]
        },
        {
          "output_type": "stream",
          "name": "stdout",
          "text": [
            "[CV] END max_depth=5, max_features=auto, min_samples_leaf=2, min_samples_split=2, n_estimators=50; total time=  27.3s\n"
          ]
        },
        {
          "output_type": "stream",
          "name": "stderr",
          "text": [
            "/usr/local/lib/python3.9/dist-packages/sklearn/ensemble/_forest.py:424: FutureWarning: `max_features='auto'` has been deprecated in 1.1 and will be removed in 1.3. To keep the past behaviour, explicitly set `max_features='sqrt'` or remove this parameter as it is also the default value for RandomForestClassifiers and ExtraTreesClassifiers.\n",
            "  warn(\n"
          ]
        },
        {
          "output_type": "stream",
          "name": "stdout",
          "text": [
            "[CV] END max_depth=5, max_features=auto, min_samples_leaf=2, min_samples_split=2, n_estimators=50; total time=  27.7s\n",
            "[CV] END max_depth=10, max_features=sqrt, min_samples_leaf=1, min_samples_split=5, n_estimators=200; total time= 3.5min\n",
            "[CV] END max_depth=10, max_features=sqrt, min_samples_leaf=1, min_samples_split=5, n_estimators=200; total time= 3.5min\n",
            "[CV] END max_depth=10, max_features=sqrt, min_samples_leaf=1, min_samples_split=5, n_estimators=200; total time= 3.6min\n",
            "[CV] END max_depth=10, max_features=sqrt, min_samples_leaf=1, min_samples_split=5, n_estimators=200; total time= 3.5min\n",
            "[CV] END max_depth=10, max_features=sqrt, min_samples_leaf=1, min_samples_split=5, n_estimators=200; total time= 3.5min\n",
            "\n",
            "Best hyper parameters {'n_estimators': 200, 'min_samples_split': 10, 'min_samples_leaf': 4, 'max_features': 'sqrt', 'max_depth': 20}\n"
          ]
        }
      ]
    },
    {
      "cell_type": "markdown",
      "source": [
        "# Validation step"
      ],
      "metadata": {
        "id": "B3uW3lYNv3Ns"
      }
    },
    {
      "cell_type": "code",
      "source": [
        "# valid_pred = random_search.predict(X_val)\n",
        "# # Calculate the accuracy score\n",
        "# accuracy = accuracy_score(y_val, valid_pred)\n",
        "# print(\"my accuracy on validation data is \",accuracy)"
      ],
      "metadata": {
        "colab": {
          "base_uri": "https://localhost:8080/"
        },
        "id": "1L-L-Eopv55t",
        "outputId": "e942fa00-5950-4caf-b782-3b6e2fb89cc6"
      },
      "execution_count": null,
      "outputs": [
        {
          "output_type": "stream",
          "name": "stdout",
          "text": [
            "my accuracy on validation data is  0.7340644732469259\n"
          ]
        }
      ]
    },
    {
      "cell_type": "markdown",
      "source": [
        "# testing Step"
      ],
      "metadata": {
        "id": "wQdrlICLw89x"
      }
    },
    {
      "cell_type": "code",
      "source": [
        "from sklearn.metrics import accuracy_score\n",
        "# Predict the response for the selected features\n",
        "test_pred = random_search.predict(X_test)\n",
        "# Calculate the accuracy score\n",
        "accuracy = accuracy_score(y_test, test_pred)\n",
        "print(\"my accuracy on test data is \",accuracy)"
      ],
      "metadata": {
        "colab": {
          "base_uri": "https://localhost:8080/"
        },
        "id": "eZBABX9LxCXS",
        "outputId": "5b4af84e-60b9-49be-f03b-77da7dfaae16"
      },
      "execution_count": null,
      "outputs": [
        {
          "output_type": "stream",
          "name": "stdout",
          "text": [
            "my accuracy on test data is  0.7322888888888889\n"
          ]
        }
      ]
    },
    {
      "cell_type": "code",
      "source": [
        "# Import necessary libraries\n",
        "from sklearn.ensemble import RandomForestClassifier, GradientBoostingClassifier\n",
        "from sklearn.model_selection import RandomizedSearchCV\n",
        "from sklearn.metrics import accuracy_score, roc_auc_score, f1_score\n",
        "import numpy as np\n",
        "\n",
        "# Define the hyperparameter grid to search over\n",
        "param_grid = {\n",
        "    'n_estimators': [100, 500],\n",
        "    'max_depth': [5, 10],\n",
        "    'min_samples_split': [2, 5],\n",
        "    'min_samples_leaf': [1, 3]\n",
        "}\n",
        "\n",
        "# Create a Random Forest classifier object\n",
        "rf_model = RandomForestClassifier(random_state=42)\n",
        "\n",
        "# Create a RandomizedSearchCV object with 100 iterations\n",
        "random_search = RandomizedSearchCV(estimator=rf_model, param_distributions=param_grid, n_iter=100, cv=5, scoring='accuracy', verbose=2, random_state=42)\n",
        "\n",
        "# Fit the RandomizedSearchCV model to the training data\n",
        "random_search.fit(X_train, y_train)\n",
        "\n",
        "# Print the best hyperparameters found by RandomizedSearchCV\n",
        "print(\"Best hyperparameters:\", random_search.best_params_)\n",
        "\n",
        "# Make predictions on the validation set and calculate evaluation metrics\n",
        "valid_pred = random_search.predict(X_val)\n",
        "accuracy = accuracy_score(y_val, valid_pred)\n",
        "roc_auc = roc_auc_score(y_val, valid_pred)\n",
        "f1 = f1_score(y_val, valid_pred)\n",
        "print(\"Validation accuracy:\", accuracy)\n",
        "print(\"Validation ROC AUC score:\", roc_auc)\n",
        "print(\"Validation F1 score:\", f1)\n",
        "\n",
        "# Make predictions on the test set and calculate evaluation metrics\n",
        "test_pred = random_search.predict(X_test)\n",
        "accuracy = accuracy_score(y_test, test_pred)\n",
        "roc_auc = roc_auc_score(y_test, test_pred)\n",
        "f1 = f1_score(y_test, test_pred)\n",
        "print(\"Test accuracy:\", accuracy)\n",
        "print(\"Test ROC AUC score:\", roc_auc)\n",
        "print(\"Test F1 score:\", f1)\n"
      ],
      "metadata": {
        "colab": {
          "base_uri": "https://localhost:8080/"
        },
        "id": "smRkf1F_q_7H",
        "outputId": "544fd62d-4a47-4333-83b1-2a602e4f4901"
      },
      "execution_count": null,
      "outputs": [
        {
          "metadata": {
            "tags": null
          },
          "name": "stderr",
          "output_type": "stream",
          "text": [
            "/usr/local/lib/python3.9/dist-packages/sklearn/model_selection/_search.py:305: UserWarning: The total space of parameters 16 is smaller than n_iter=100. Running 16 iterations. For exhaustive searches, use GridSearchCV.\n",
            "  warnings.warn(\n"
          ]
        },
        {
          "output_type": "stream",
          "name": "stdout",
          "text": [
            "Fitting 5 folds for each of 16 candidates, totalling 80 fits\n",
            "[CV] END max_depth=5, min_samples_leaf=1, min_samples_split=2, n_estimators=100; total time= 1.2min\n",
            "[CV] END max_depth=5, min_samples_leaf=1, min_samples_split=2, n_estimators=100; total time= 1.2min\n",
            "[CV] END max_depth=5, min_samples_leaf=1, min_samples_split=2, n_estimators=100; total time= 1.1min\n",
            "[CV] END max_depth=5, min_samples_leaf=1, min_samples_split=2, n_estimators=100; total time= 1.1min\n",
            "[CV] END max_depth=5, min_samples_leaf=1, min_samples_split=2, n_estimators=100; total time= 1.2min\n",
            "[CV] END max_depth=5, min_samples_leaf=1, min_samples_split=2, n_estimators=500; total time= 5.6min\n",
            "[CV] END max_depth=5, min_samples_leaf=1, min_samples_split=2, n_estimators=500; total time= 5.5min\n",
            "[CV] END max_depth=5, min_samples_leaf=1, min_samples_split=2, n_estimators=500; total time= 5.6min\n",
            "[CV] END max_depth=5, min_samples_leaf=1, min_samples_split=2, n_estimators=500; total time= 5.5min\n",
            "[CV] END max_depth=5, min_samples_leaf=1, min_samples_split=2, n_estimators=500; total time= 5.5min\n",
            "[CV] END max_depth=5, min_samples_leaf=1, min_samples_split=5, n_estimators=100; total time= 1.1min\n",
            "[CV] END max_depth=5, min_samples_leaf=1, min_samples_split=5, n_estimators=100; total time= 1.2min\n",
            "[CV] END max_depth=5, min_samples_leaf=1, min_samples_split=5, n_estimators=100; total time= 1.1min\n",
            "[CV] END max_depth=5, min_samples_leaf=1, min_samples_split=5, n_estimators=100; total time= 1.1min\n",
            "[CV] END max_depth=5, min_samples_leaf=1, min_samples_split=5, n_estimators=100; total time= 1.1min\n",
            "[CV] END max_depth=5, min_samples_leaf=1, min_samples_split=5, n_estimators=500; total time= 5.5min\n",
            "[CV] END max_depth=5, min_samples_leaf=1, min_samples_split=5, n_estimators=500; total time= 5.6min\n",
            "[CV] END max_depth=5, min_samples_leaf=1, min_samples_split=5, n_estimators=500; total time= 5.5min\n",
            "[CV] END max_depth=5, min_samples_leaf=1, min_samples_split=5, n_estimators=500; total time= 5.5min\n",
            "[CV] END max_depth=5, min_samples_leaf=1, min_samples_split=5, n_estimators=500; total time= 5.5min\n",
            "[CV] END max_depth=5, min_samples_leaf=3, min_samples_split=2, n_estimators=100; total time= 1.1min\n",
            "[CV] END max_depth=5, min_samples_leaf=3, min_samples_split=2, n_estimators=100; total time= 1.1min\n",
            "[CV] END max_depth=5, min_samples_leaf=3, min_samples_split=2, n_estimators=100; total time= 1.1min\n",
            "[CV] END max_depth=5, min_samples_leaf=3, min_samples_split=2, n_estimators=100; total time= 1.1min\n",
            "[CV] END max_depth=5, min_samples_leaf=3, min_samples_split=2, n_estimators=100; total time= 1.1min\n",
            "[CV] END max_depth=5, min_samples_leaf=3, min_samples_split=2, n_estimators=500; total time= 5.5min\n",
            "[CV] END max_depth=5, min_samples_leaf=3, min_samples_split=2, n_estimators=500; total time= 5.6min\n",
            "[CV] END max_depth=5, min_samples_leaf=3, min_samples_split=2, n_estimators=500; total time= 5.5min\n",
            "[CV] END max_depth=5, min_samples_leaf=3, min_samples_split=2, n_estimators=500; total time= 5.6min\n",
            "[CV] END max_depth=5, min_samples_leaf=3, min_samples_split=2, n_estimators=500; total time= 5.7min\n",
            "[CV] END max_depth=5, min_samples_leaf=3, min_samples_split=5, n_estimators=100; total time= 1.1min\n",
            "[CV] END max_depth=5, min_samples_leaf=3, min_samples_split=5, n_estimators=100; total time= 1.1min\n",
            "[CV] END max_depth=5, min_samples_leaf=3, min_samples_split=5, n_estimators=100; total time= 1.1min\n",
            "[CV] END max_depth=5, min_samples_leaf=3, min_samples_split=5, n_estimators=100; total time= 1.1min\n",
            "[CV] END max_depth=5, min_samples_leaf=3, min_samples_split=5, n_estimators=100; total time= 1.1min\n",
            "[CV] END max_depth=5, min_samples_leaf=3, min_samples_split=5, n_estimators=500; total time= 5.6min\n",
            "[CV] END max_depth=5, min_samples_leaf=3, min_samples_split=5, n_estimators=500; total time= 5.6min\n",
            "[CV] END max_depth=5, min_samples_leaf=3, min_samples_split=5, n_estimators=500; total time= 5.6min\n",
            "[CV] END max_depth=5, min_samples_leaf=3, min_samples_split=5, n_estimators=500; total time= 5.6min\n",
            "[CV] END max_depth=5, min_samples_leaf=3, min_samples_split=5, n_estimators=500; total time= 5.6min\n",
            "[CV] END max_depth=10, min_samples_leaf=1, min_samples_split=2, n_estimators=100; total time= 2.1min\n",
            "[CV] END max_depth=10, min_samples_leaf=1, min_samples_split=2, n_estimators=100; total time= 2.1min\n",
            "[CV] END max_depth=10, min_samples_leaf=1, min_samples_split=2, n_estimators=100; total time= 2.1min\n",
            "[CV] END max_depth=10, min_samples_leaf=1, min_samples_split=2, n_estimators=100; total time= 2.1min\n",
            "[CV] END max_depth=10, min_samples_leaf=1, min_samples_split=2, n_estimators=100; total time= 2.1min\n",
            "[CV] END max_depth=10, min_samples_leaf=1, min_samples_split=2, n_estimators=500; total time=10.4min\n",
            "[CV] END max_depth=10, min_samples_leaf=1, min_samples_split=2, n_estimators=500; total time=10.3min\n",
            "[CV] END max_depth=10, min_samples_leaf=1, min_samples_split=2, n_estimators=500; total time=10.4min\n",
            "[CV] END max_depth=10, min_samples_leaf=1, min_samples_split=2, n_estimators=500; total time=10.4min\n",
            "[CV] END max_depth=10, min_samples_leaf=1, min_samples_split=2, n_estimators=500; total time=10.5min\n",
            "[CV] END max_depth=10, min_samples_leaf=1, min_samples_split=5, n_estimators=100; total time= 2.2min\n",
            "[CV] END max_depth=10, min_samples_leaf=1, min_samples_split=5, n_estimators=100; total time= 2.1min\n",
            "[CV] END max_depth=10, min_samples_leaf=1, min_samples_split=5, n_estimators=100; total time= 2.1min\n",
            "[CV] END max_depth=10, min_samples_leaf=1, min_samples_split=5, n_estimators=100; total time= 2.1min\n",
            "[CV] END max_depth=10, min_samples_leaf=1, min_samples_split=5, n_estimators=100; total time= 2.0min\n",
            "[CV] END max_depth=10, min_samples_leaf=1, min_samples_split=5, n_estimators=500; total time=10.3min\n",
            "[CV] END max_depth=10, min_samples_leaf=1, min_samples_split=5, n_estimators=500; total time=10.3min\n",
            "[CV] END max_depth=10, min_samples_leaf=1, min_samples_split=5, n_estimators=500; total time=10.2min\n",
            "[CV] END max_depth=10, min_samples_leaf=1, min_samples_split=5, n_estimators=500; total time=10.2min\n",
            "[CV] END max_depth=10, min_samples_leaf=1, min_samples_split=5, n_estimators=500; total time=10.3min\n",
            "[CV] END max_depth=10, min_samples_leaf=3, min_samples_split=2, n_estimators=100; total time= 2.1min\n",
            "[CV] END max_depth=10, min_samples_leaf=3, min_samples_split=2, n_estimators=100; total time= 2.0min\n",
            "[CV] END max_depth=10, min_samples_leaf=3, min_samples_split=2, n_estimators=100; total time= 2.1min\n",
            "[CV] END max_depth=10, min_samples_leaf=3, min_samples_split=2, n_estimators=100; total time= 2.1min\n",
            "[CV] END max_depth=10, min_samples_leaf=3, min_samples_split=2, n_estimators=100; total time= 2.1min\n",
            "[CV] END max_depth=10, min_samples_leaf=3, min_samples_split=2, n_estimators=500; total time=10.2min\n",
            "[CV] END max_depth=10, min_samples_leaf=3, min_samples_split=2, n_estimators=500; total time=10.2min\n",
            "[CV] END max_depth=10, min_samples_leaf=3, min_samples_split=2, n_estimators=500; total time=10.5min\n",
            "[CV] END max_depth=10, min_samples_leaf=3, min_samples_split=2, n_estimators=500; total time=10.0min\n",
            "[CV] END max_depth=10, min_samples_leaf=3, min_samples_split=2, n_estimators=500; total time= 9.9min\n",
            "[CV] END max_depth=10, min_samples_leaf=3, min_samples_split=5, n_estimators=100; total time= 2.2min\n",
            "[CV] END max_depth=10, min_samples_leaf=3, min_samples_split=5, n_estimators=100; total time= 2.0min\n",
            "[CV] END max_depth=10, min_samples_leaf=3, min_samples_split=5, n_estimators=100; total time= 2.0min\n",
            "[CV] END max_depth=10, min_samples_leaf=3, min_samples_split=5, n_estimators=100; total time= 2.0min\n",
            "[CV] END max_depth=10, min_samples_leaf=3, min_samples_split=5, n_estimators=100; total time= 2.0min\n",
            "[CV] END max_depth=10, min_samples_leaf=3, min_samples_split=5, n_estimators=500; total time=10.2min\n",
            "[CV] END max_depth=10, min_samples_leaf=3, min_samples_split=5, n_estimators=500; total time=10.1min\n",
            "[CV] END max_depth=10, min_samples_leaf=3, min_samples_split=5, n_estimators=500; total time=10.8min\n",
            "[CV] END max_depth=10, min_samples_leaf=3, min_samples_split=5, n_estimators=500; total time=10.4min\n",
            "[CV] END max_depth=10, min_samples_leaf=3, min_samples_split=5, n_estimators=500; total time=10.6min\n",
            "Best hyperparameters: {'n_estimators': 500, 'min_samples_split': 2, 'min_samples_leaf': 3, 'max_depth': 10}\n",
            "Validation accuracy: 0.7150991470034341\n",
            "Validation ROC AUC score: 0.7126412522250166\n",
            "Validation F1 score: 0.7371046552041379\n",
            "Test accuracy: 0.7126555555555556\n",
            "Test ROC AUC score: 0.7101882024117062\n",
            "Test F1 score: 0.7348541549187472\n"
          ]
        }
      ]
    },
    {
      "cell_type": "markdown",
      "source": [],
      "metadata": {
        "id": "TLKbQSs-wGVt"
      }
    }
  ]
}