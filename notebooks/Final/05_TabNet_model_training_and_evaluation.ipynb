{
  "nbformat": 4,
  "nbformat_minor": 0,
  "metadata": {
    "colab": {
      "provenance": [],
      "authorship_tag": "ABX9TyPNW+gwWxpAMpgcPbZX4gV9",
      "include_colab_link": true
    },
    "kernelspec": {
      "name": "python3",
      "display_name": "Python 3"
    },
    "language_info": {
      "name": "python"
    },
    "accelerator": "GPU",
    "gpuClass": "standard"
  },
  "cells": [
    {
      "cell_type": "markdown",
      "metadata": {
        "id": "view-in-github",
        "colab_type": "text"
      },
      "source": [
        "<a href=\"https://colab.research.google.com/github/YahyaEryani/quantum-model/blob/main/notebooks/05_TabNet_model_training_and_evaluation.ipynb\" target=\"_parent\"><img src=\"https://colab.research.google.com/assets/colab-badge.svg\" alt=\"Open In Colab\"/></a>"
      ]
    },
    {
      "cell_type": "markdown",
      "source": [
        "# Model Training, Tuning, and Evaluation\n",
        "\n",
        " In this notebook, we will train an TabNet model on the Higgs boson dataset we have preprocessed in the `01_data_exploration` notebook. We will perform the model training and tuning process to obtain the best model with the highest accuracy possible."
      ],
      "metadata": {
        "id": "r1qa74agdvde"
      }
    },
    {
      "cell_type": "markdown",
      "source": [
        "## Installing and Importing Libraries\n",
        "In this section, we will install and import the necessary libraries and packages that will be used throughout the notebook."
      ],
      "metadata": {
        "id": "wGxp1SJdh0ca"
      }
    },
    {
      "cell_type": "code",
      "source": [
        "!pip install torch==1.10.0+cpu torchvision==0.11.1+cpu -f https://download.pytorch.org/whl/cpu/torch_stable.html"
      ],
      "metadata": {
        "colab": {
          "base_uri": "https://localhost:8080/"
        },
        "id": "Yc0pIp6Xv9RB",
        "outputId": "0f0425c8-ec5e-4788-a1b9-ecf9daafb761"
      },
      "execution_count": 1,
      "outputs": [
        {
          "output_type": "stream",
          "name": "stdout",
          "text": [
            "Looking in indexes: https://pypi.org/simple, https://us-python.pkg.dev/colab-wheels/public/simple/\n",
            "Looking in links: https://download.pytorch.org/whl/cpu/torch_stable.html\n",
            "Requirement already satisfied: torch==1.10.0+cpu in /usr/local/lib/python3.9/dist-packages (1.10.0+cpu)\n",
            "Requirement already satisfied: torchvision==0.11.1+cpu in /usr/local/lib/python3.9/dist-packages (0.11.1+cpu)\n",
            "Requirement already satisfied: typing-extensions in /usr/local/lib/python3.9/dist-packages (from torch==1.10.0+cpu) (4.5.0)\n",
            "Requirement already satisfied: numpy in /usr/local/lib/python3.9/dist-packages (from torchvision==0.11.1+cpu) (1.22.4)\n",
            "Requirement already satisfied: pillow!=8.3.0,>=5.3.0 in /usr/local/lib/python3.9/dist-packages (from torchvision==0.11.1+cpu) (8.4.0)\n"
          ]
        }
      ]
    },
    {
      "cell_type": "code",
      "source": [
        "!pip install pytorch-tabnet"
      ],
      "metadata": {
        "colab": {
          "base_uri": "https://localhost:8080/"
        },
        "id": "TsZF3wAQCBSm",
        "outputId": "1d34edfe-3c74-44c9-ffcf-701849220e86"
      },
      "execution_count": 2,
      "outputs": [
        {
          "output_type": "stream",
          "name": "stdout",
          "text": [
            "Looking in indexes: https://pypi.org/simple, https://us-python.pkg.dev/colab-wheels/public/simple/\n",
            "Requirement already satisfied: pytorch-tabnet in /usr/local/lib/python3.9/dist-packages (4.0)\n",
            "Requirement already satisfied: scipy>1.4 in /usr/local/lib/python3.9/dist-packages (from pytorch-tabnet) (1.10.1)\n",
            "Requirement already satisfied: numpy<2.0,>=1.17 in /usr/local/lib/python3.9/dist-packages (from pytorch-tabnet) (1.22.4)\n",
            "Requirement already satisfied: tqdm<5.0,>=4.36 in /usr/local/lib/python3.9/dist-packages (from pytorch-tabnet) (4.65.0)\n",
            "Requirement already satisfied: scikit_learn>0.21 in /usr/local/lib/python3.9/dist-packages (from pytorch-tabnet) (1.2.2)\n",
            "Requirement already satisfied: torch<2.0,>=1.2 in /usr/local/lib/python3.9/dist-packages (from pytorch-tabnet) (1.10.0+cpu)\n",
            "Requirement already satisfied: threadpoolctl>=2.0.0 in /usr/local/lib/python3.9/dist-packages (from scikit_learn>0.21->pytorch-tabnet) (3.1.0)\n",
            "Requirement already satisfied: joblib>=1.1.1 in /usr/local/lib/python3.9/dist-packages (from scikit_learn>0.21->pytorch-tabnet) (1.2.0)\n",
            "Requirement already satisfied: typing-extensions in /usr/local/lib/python3.9/dist-packages (from torch<2.0,>=1.2->pytorch-tabnet) (4.5.0)\n"
          ]
        }
      ]
    },
    {
      "cell_type": "code",
      "source": [
        "!pip install torch -U\n"
      ],
      "metadata": {
        "colab": {
          "base_uri": "https://localhost:8080/"
        },
        "id": "TJafK1tbCn4D",
        "outputId": "9f59f169-24ca-4a1c-a462-3f69c4608545"
      },
      "execution_count": 3,
      "outputs": [
        {
          "output_type": "stream",
          "name": "stdout",
          "text": [
            "Looking in indexes: https://pypi.org/simple, https://us-python.pkg.dev/colab-wheels/public/simple/\n",
            "Requirement already satisfied: torch in /usr/local/lib/python3.9/dist-packages (1.10.0+cpu)\n",
            "Collecting torch\n",
            "  Downloading torch-2.0.0-cp39-cp39-manylinux1_x86_64.whl (619.9 MB)\n",
            "\u001b[2K     \u001b[90m━━━━━━━━━━━━━━━━━━━━━━━━━━━━━━━━━━━━━━━\u001b[0m \u001b[32m619.9/619.9 MB\u001b[0m \u001b[31m2.5 MB/s\u001b[0m eta \u001b[36m0:00:00\u001b[0m\n",
            "\u001b[?25hCollecting nvidia-curand-cu11==10.2.10.91\n",
            "  Downloading nvidia_curand_cu11-10.2.10.91-py3-none-manylinux1_x86_64.whl (54.6 MB)\n",
            "\u001b[2K     \u001b[90m━━━━━━━━━━━━━━━━━━━━━━━━━━━━━━━━━━━━━━━━\u001b[0m \u001b[32m54.6/54.6 MB\u001b[0m \u001b[31m17.0 MB/s\u001b[0m eta \u001b[36m0:00:00\u001b[0m\n",
            "\u001b[?25hCollecting nvidia-nccl-cu11==2.14.3\n",
            "  Downloading nvidia_nccl_cu11-2.14.3-py3-none-manylinux1_x86_64.whl (177.1 MB)\n",
            "\u001b[2K     \u001b[90m━━━━━━━━━━━━━━━━━━━━━━━━━━━━━━━━━━━━━━━\u001b[0m \u001b[32m177.1/177.1 MB\u001b[0m \u001b[31m7.3 MB/s\u001b[0m eta \u001b[36m0:00:00\u001b[0m\n",
            "\u001b[?25hRequirement already satisfied: nvidia-cuda-runtime-cu11==11.7.99 in /usr/local/lib/python3.9/dist-packages (from torch) (11.7.99)\n",
            "Requirement already satisfied: sympy in /usr/local/lib/python3.9/dist-packages (from torch) (1.11.1)\n",
            "Collecting nvidia-nvtx-cu11==11.7.91\n",
            "  Downloading nvidia_nvtx_cu11-11.7.91-py3-none-manylinux1_x86_64.whl (98 kB)\n",
            "\u001b[2K     \u001b[90m━━━━━━━━━━━━━━━━━━━━━━━━━━━━━━━━━━━━━━━━\u001b[0m \u001b[32m98.6/98.6 kB\u001b[0m \u001b[31m12.5 MB/s\u001b[0m eta \u001b[36m0:00:00\u001b[0m\n",
            "\u001b[?25hRequirement already satisfied: triton==2.0.0 in /usr/local/lib/python3.9/dist-packages (from torch) (2.0.0)\n",
            "Requirement already satisfied: nvidia-cuda-nvrtc-cu11==11.7.99 in /usr/local/lib/python3.9/dist-packages (from torch) (11.7.99)\n",
            "Requirement already satisfied: filelock in /usr/local/lib/python3.9/dist-packages (from torch) (3.11.0)\n",
            "Requirement already satisfied: networkx in /usr/local/lib/python3.9/dist-packages (from torch) (3.1)\n",
            "Requirement already satisfied: jinja2 in /usr/local/lib/python3.9/dist-packages (from torch) (3.1.2)\n",
            "Requirement already satisfied: nvidia-cublas-cu11==11.10.3.66 in /usr/local/lib/python3.9/dist-packages (from torch) (11.10.3.66)\n",
            "Collecting nvidia-cusolver-cu11==11.4.0.1\n",
            "  Downloading nvidia_cusolver_cu11-11.4.0.1-2-py3-none-manylinux1_x86_64.whl (102.6 MB)\n",
            "\u001b[2K     \u001b[90m━━━━━━━━━━━━━━━━━━━━━━━━━━━━━━━━━━━━━━━\u001b[0m \u001b[32m102.6/102.6 MB\u001b[0m \u001b[31m9.7 MB/s\u001b[0m eta \u001b[36m0:00:00\u001b[0m\n",
            "\u001b[?25hCollecting nvidia-cufft-cu11==10.9.0.58\n",
            "  Downloading nvidia_cufft_cu11-10.9.0.58-py3-none-manylinux1_x86_64.whl (168.4 MB)\n",
            "\u001b[2K     \u001b[90m━━━━━━━━━━━━━━━━━━━━━━━━━━━━━━━━━━━━━━━\u001b[0m \u001b[32m168.4/168.4 MB\u001b[0m \u001b[31m7.3 MB/s\u001b[0m eta \u001b[36m0:00:00\u001b[0m\n",
            "\u001b[?25hRequirement already satisfied: typing-extensions in /usr/local/lib/python3.9/dist-packages (from torch) (4.5.0)\n",
            "Requirement already satisfied: nvidia-cudnn-cu11==8.5.0.96 in /usr/local/lib/python3.9/dist-packages (from torch) (8.5.0.96)\n",
            "Collecting nvidia-cusparse-cu11==11.7.4.91\n",
            "  Downloading nvidia_cusparse_cu11-11.7.4.91-py3-none-manylinux1_x86_64.whl (173.2 MB)\n",
            "\u001b[2K     \u001b[90m━━━━━━━━━━━━━━━━━━━━━━━━━━━━━━━━━━━━━━━\u001b[0m \u001b[32m173.2/173.2 MB\u001b[0m \u001b[31m8.2 MB/s\u001b[0m eta \u001b[36m0:00:00\u001b[0m\n",
            "\u001b[?25hCollecting nvidia-cuda-cupti-cu11==11.7.101\n",
            "  Downloading nvidia_cuda_cupti_cu11-11.7.101-py3-none-manylinux1_x86_64.whl (11.8 MB)\n",
            "\u001b[2K     \u001b[90m━━━━━━━━━━━━━━━━━━━━━━━━━━━━━━━━━━━━━━━━\u001b[0m \u001b[32m11.8/11.8 MB\u001b[0m \u001b[31m75.6 MB/s\u001b[0m eta \u001b[36m0:00:00\u001b[0m\n",
            "\u001b[?25hRequirement already satisfied: setuptools in /usr/local/lib/python3.9/dist-packages (from nvidia-cublas-cu11==11.10.3.66->torch) (67.6.1)\n",
            "Requirement already satisfied: wheel in /usr/local/lib/python3.9/dist-packages (from nvidia-cublas-cu11==11.10.3.66->torch) (0.40.0)\n",
            "Requirement already satisfied: lit in /usr/local/lib/python3.9/dist-packages (from triton==2.0.0->torch) (16.0.1)\n",
            "Requirement already satisfied: cmake in /usr/local/lib/python3.9/dist-packages (from triton==2.0.0->torch) (3.25.2)\n",
            "Requirement already satisfied: MarkupSafe>=2.0 in /usr/local/lib/python3.9/dist-packages (from jinja2->torch) (2.1.2)\n",
            "Requirement already satisfied: mpmath>=0.19 in /usr/local/lib/python3.9/dist-packages (from sympy->torch) (1.3.0)\n",
            "Installing collected packages: nvidia-nvtx-cu11, nvidia-nccl-cu11, nvidia-cusparse-cu11, nvidia-curand-cu11, nvidia-cufft-cu11, nvidia-cuda-cupti-cu11, nvidia-cusolver-cu11, torch\n",
            "  Attempting uninstall: torch\n",
            "    Found existing installation: torch 1.10.0+cpu\n",
            "    Uninstalling torch-1.10.0+cpu:\n",
            "      Successfully uninstalled torch-1.10.0+cpu\n",
            "\u001b[31mERROR: pip's dependency resolver does not currently take into account all the packages that are installed. This behaviour is the source of the following dependency conflicts.\n",
            "torchvision 0.11.1+cpu requires torch==1.10.0, but you have torch 2.0.0 which is incompatible.\n",
            "pytorch-tabnet 4.0 requires torch<2.0,>=1.2, but you have torch 2.0.0 which is incompatible.\u001b[0m\u001b[31m\n",
            "\u001b[0mSuccessfully installed nvidia-cuda-cupti-cu11-11.7.101 nvidia-cufft-cu11-10.9.0.58 nvidia-curand-cu11-10.2.10.91 nvidia-cusolver-cu11-11.4.0.1 nvidia-cusparse-cu11-11.7.4.91 nvidia-nccl-cu11-2.14.3 nvidia-nvtx-cu11-11.7.91 torch-2.0.0\n"
          ]
        }
      ]
    },
    {
      "cell_type": "code",
      "execution_count": 4,
      "metadata": {
        "id": "f13sJAo_dtki"
      },
      "outputs": [],
      "source": [
        "import torch\n",
        "import numpy as np\n",
        "import pandas as pd\n",
        "from pytorch_tabnet.tab_model import TabNetClassifier\n",
        "from sklearn.model_selection import train_test_split\n",
        "from sklearn.preprocessing import StandardScaler\n",
        "from sklearn.metrics import accuracy_score"
      ]
    },
    {
      "cell_type": "markdown",
      "source": [
        "## Loading Data\n",
        "\n",
        "This code cell loads the training, validation, and test datasets that were saved in pickle format to the local directory."
      ],
      "metadata": {
        "id": "JqKH4ZL6khvq"
      }
    },
    {
      "cell_type": "code",
      "source": [
        "# Mount Google Drive in Colab\n",
        "from google.colab import drive\n",
        "import pandas as pd\n",
        "\n",
        "drive.mount('/content/drive')\n",
        "\n",
        "# Load data from Google Drive\n",
        "train_path = '/content/drive/MyDrive/Higgs_dataset/processed/training_data.pkl'\n",
        "val_path   = '/content/drive/MyDrive/Higgs_dataset/processed/validation_data.pkl'\n",
        "test_path  = '/content/drive/MyDrive/Higgs_dataset/processed/testing_data.pkl'\n",
        "\n",
        "train_data = pd.read_pickle(train_path)\n",
        "val_data = pd.read_pickle(val_path)\n",
        "test_data = pd.read_pickle(test_path)"
      ],
      "metadata": {
        "colab": {
          "base_uri": "https://localhost:8080/"
        },
        "id": "epL3VA5Ukk_e",
        "outputId": "1ff0c330-1636-4ead-980c-a4da69246ba2"
      },
      "execution_count": 5,
      "outputs": [
        {
          "output_type": "stream",
          "name": "stdout",
          "text": [
            "Drive already mounted at /content/drive; to attempt to forcibly remount, call drive.mount(\"/content/drive\", force_remount=True).\n"
          ]
        }
      ]
    },
    {
      "cell_type": "markdown",
      "source": [
        "## Prepare the data for training\n",
        "This code separates the features and class labels from the train, validation, and test datasets."
      ],
      "metadata": {
        "id": "9kEm5ql1lVkO"
      }
    },
    {
      "cell_type": "code",
      "source": [
        "# Separate features and labels\n",
        "y_train = train_data['class_label']\n",
        "X_train = train_data.drop('class_label', axis=1)\n",
        "y_val = val_data['class_label']\n",
        "X_val = val_data.drop('class_label', axis=1)\n",
        "y_test = test_data['class_label']\n",
        "X_test = test_data.drop('class_label', axis=1)"
      ],
      "metadata": {
        "id": "ehG2PuiflWBJ"
      },
      "execution_count": 6,
      "outputs": []
    },
    {
      "cell_type": "markdown",
      "source": [
        "##Train the TabNet model\n",
        "This code sets the hyperparameters for a TabNet model, including the number of decision steps, the number of attention heads, learning rate, batch size, and number of epochs. It then trains the TabNet model using the Adam optimizer with a specified learning rate, batch size, and number of epochs. Additionally, the model performance is monitored using the validation set during training."
      ],
      "metadata": {
        "id": "LR2u_8iMlhMG"
      }
    },
    {
      "cell_type": "code",
      "source": [
        "tabnet_params = dict(\n",
        "    n_d=32,  # Decrease n_d and n_a to reduce model complexity\n",
        "    n_a=32,\n",
        "    n_steps=6,  # Increase n_steps to allow for more decision steps\n",
        "    gamma=1.5,  # Increase gamma to enforce sparsity in the feature selection\n",
        "    n_independent=2,\n",
        "    n_shared=2,\n",
        "    epsilon=1e-4,  # Decrease epsilon for stronger regularization\n",
        "    seed=42,\n",
        "    optimizer_fn=torch.optim.Adam,\n",
        "    optimizer_params=dict(lr=0.005, weight_decay=1e-5),  # Lower learning rate and weight decay for smoother convergence\n",
        "    scheduler_params=dict(\n",
        "        mode=\"min\",\n",
        "        patience=7,  # Increase patience to wait longer before reducing the learning rate\n",
        "        min_lr=1e-6,  # Lower min_lr to allow for a smaller learning rate\n",
        "        factor=0.8,  # Decrease factor to reduce the learning rate more aggressively\n",
        "    ),\n",
        "    scheduler_fn=torch.optim.lr_scheduler.ReduceLROnPlateau,\n",
        "    mask_type=\"entmax\",\n",
        "    verbose=1\n",
        ")\n",
        "\n",
        "# Train the TabNet model\n",
        "tabnet_model = TabNetClassifier(**tabnet_params)\n",
        "tabnet_model.fit(\n",
        "    X_train=X_train.values, y_train=y_train.values,\n",
        "    eval_set=[(X_val.values, y_val.values)],\n",
        "    max_epochs=100,\n",
        "    patience=10,\n",
        "    batch_size=256,\n",
        "    virtual_batch_size=128,\n",
        "    num_workers=0,\n",
        "    drop_last=False,\n",
        ")"
      ],
      "metadata": {
        "colab": {
          "base_uri": "https://localhost:8080/"
        },
        "id": "PTen27NPliaB",
        "outputId": "381f67c2-28bf-4317-8cce-b5378fae7fa4"
      },
      "execution_count": 11,
      "outputs": [
        {
          "output_type": "stream",
          "name": "stderr",
          "text": [
            "/usr/local/lib/python3.9/dist-packages/pytorch_tabnet/abstract_model.py:75: UserWarning: Device used : cuda\n",
            "  warnings.warn(f\"Device used : {self.device}\")\n"
          ]
        },
        {
          "output_type": "stream",
          "name": "stdout",
          "text": [
            "epoch 0  | loss: 0.671   | val_0_auc: 0.70402 |  0:01:06s\n",
            "epoch 1  | loss: 0.62438 | val_0_auc: 0.72351 |  0:02:14s\n",
            "epoch 2  | loss: 0.60851 | val_0_auc: 0.74686 |  0:03:22s\n",
            "epoch 3  | loss: 0.59422 | val_0_auc: 0.76263 |  0:04:29s\n",
            "epoch 4  | loss: 0.57679 | val_0_auc: 0.77825 |  0:05:35s\n",
            "epoch 5  | loss: 0.56328 | val_0_auc: 0.78844 |  0:06:42s\n",
            "epoch 6  | loss: 0.55399 | val_0_auc: 0.79538 |  0:07:49s\n",
            "epoch 7  | loss: 0.54699 | val_0_auc: 0.7998  |  0:08:55s\n",
            "epoch 8  | loss: 0.54241 | val_0_auc: 0.80371 |  0:10:02s\n",
            "epoch 9  | loss: 0.53607 | val_0_auc: 0.80827 |  0:11:09s\n",
            "epoch 10 | loss: 0.53249 | val_0_auc: 0.81125 |  0:12:16s\n",
            "epoch 11 | loss: 0.53065 | val_0_auc: 0.81093 |  0:13:22s\n",
            "epoch 12 | loss: 0.52888 | val_0_auc: 0.81364 |  0:14:29s\n",
            "epoch 13 | loss: 0.52539 | val_0_auc: 0.81595 |  0:15:35s\n",
            "epoch 14 | loss: 0.52355 | val_0_auc: 0.81945 |  0:16:42s\n",
            "epoch 15 | loss: 0.5217  | val_0_auc: 0.81686 |  0:17:48s\n",
            "epoch 16 | loss: 0.52196 | val_0_auc: 0.81825 |  0:18:54s\n",
            "epoch 17 | loss: 0.51751 | val_0_auc: 0.82254 |  0:20:00s\n",
            "epoch 18 | loss: 0.51644 | val_0_auc: 0.82436 |  0:21:06s\n",
            "epoch 19 | loss: 0.51572 | val_0_auc: 0.82423 |  0:22:12s\n",
            "epoch 20 | loss: 0.51493 | val_0_auc: 0.82523 |  0:23:18s\n",
            "epoch 21 | loss: 0.51434 | val_0_auc: 0.82437 |  0:24:25s\n",
            "epoch 22 | loss: 0.51358 | val_0_auc: 0.82244 |  0:25:31s\n",
            "epoch 23 | loss: 0.51351 | val_0_auc: 0.82527 |  0:26:36s\n",
            "epoch 24 | loss: 0.51275 | val_0_auc: 0.82546 |  0:27:43s\n",
            "epoch 25 | loss: 0.51047 | val_0_auc: 0.82625 |  0:28:49s\n",
            "epoch 26 | loss: 0.51008 | val_0_auc: 0.82698 |  0:29:56s\n",
            "epoch 27 | loss: 0.50983 | val_0_auc: 0.8271  |  0:31:01s\n",
            "epoch 28 | loss: 0.50955 | val_0_auc: 0.82761 |  0:32:09s\n",
            "epoch 29 | loss: 0.5092  | val_0_auc: 0.82801 |  0:33:17s\n",
            "epoch 30 | loss: 0.5085  | val_0_auc: 0.82555 |  0:34:24s\n",
            "epoch 31 | loss: 0.50828 | val_0_auc: 0.82792 |  0:35:32s\n",
            "epoch 32 | loss: 0.50776 | val_0_auc: 0.82875 |  0:36:39s\n",
            "epoch 33 | loss: 0.50593 | val_0_auc: 0.83027 |  0:37:45s\n",
            "epoch 34 | loss: 0.50547 | val_0_auc: 0.82959 |  0:38:52s\n",
            "epoch 35 | loss: 0.50552 | val_0_auc: 0.82973 |  0:39:58s\n",
            "epoch 36 | loss: 0.50523 | val_0_auc: 0.82809 |  0:41:04s\n",
            "epoch 37 | loss: 0.50541 | val_0_auc: 0.82996 |  0:42:10s\n",
            "epoch 38 | loss: 0.50479 | val_0_auc: 0.82957 |  0:43:16s\n",
            "epoch 39 | loss: 0.50409 | val_0_auc: 0.83062 |  0:44:22s\n",
            "epoch 40 | loss: 0.5052  | val_0_auc: 0.82951 |  0:45:28s\n",
            "epoch 41 | loss: 0.50239 | val_0_auc: 0.83091 |  0:46:34s\n",
            "epoch 42 | loss: 0.50221 | val_0_auc: 0.83116 |  0:47:41s\n",
            "epoch 43 | loss: 0.502   | val_0_auc: 0.83124 |  0:48:46s\n",
            "epoch 44 | loss: 0.50207 | val_0_auc: 0.83132 |  0:49:52s\n",
            "epoch 45 | loss: 0.50147 | val_0_auc: 0.8311  |  0:50:59s\n",
            "epoch 46 | loss: 0.50171 | val_0_auc: 0.83047 |  0:52:05s\n",
            "epoch 47 | loss: 0.50111 | val_0_auc: 0.83162 |  0:53:11s\n",
            "epoch 48 | loss: 0.50145 | val_0_auc: 0.83131 |  0:54:17s\n",
            "epoch 49 | loss: 0.50013 | val_0_auc: 0.83256 |  0:55:23s\n",
            "epoch 50 | loss: 0.49933 | val_0_auc: 0.83251 |  0:56:28s\n",
            "epoch 51 | loss: 0.49929 | val_0_auc: 0.83201 |  0:57:34s\n",
            "epoch 52 | loss: 0.49983 | val_0_auc: 0.83246 |  0:58:40s\n",
            "epoch 53 | loss: 0.49938 | val_0_auc: 0.83143 |  0:59:46s\n",
            "epoch 54 | loss: 0.49913 | val_0_auc: 0.83133 |  1:00:51s\n",
            "epoch 55 | loss: 0.49891 | val_0_auc: 0.83233 |  1:01:57s\n",
            "epoch 56 | loss: 0.49837 | val_0_auc: 0.83285 |  1:03:03s\n",
            "epoch 57 | loss: 0.49757 | val_0_auc: 0.83341 |  1:04:08s\n",
            "epoch 58 | loss: 0.49725 | val_0_auc: 0.83333 |  1:05:14s\n",
            "epoch 59 | loss: 0.49656 | val_0_auc: 0.83292 |  1:06:20s\n",
            "epoch 60 | loss: 0.49708 | val_0_auc: 0.83264 |  1:07:27s\n",
            "epoch 61 | loss: 0.4969  | val_0_auc: 0.83345 |  1:08:31s\n",
            "epoch 62 | loss: 0.49707 | val_0_auc: 0.83331 |  1:09:38s\n",
            "epoch 63 | loss: 0.4965  | val_0_auc: 0.83357 |  1:10:44s\n",
            "epoch 64 | loss: 0.49681 | val_0_auc: 0.83331 |  1:11:51s\n",
            "epoch 65 | loss: 0.49572 | val_0_auc: 0.83377 |  1:12:57s\n",
            "epoch 66 | loss: 0.4952  | val_0_auc: 0.82819 |  1:14:04s\n",
            "epoch 67 | loss: 0.49547 | val_0_auc: 0.83423 |  1:15:11s\n",
            "epoch 68 | loss: 0.49511 | val_0_auc: 0.83376 |  1:16:17s\n",
            "epoch 69 | loss: 0.49495 | val_0_auc: 0.83286 |  1:17:22s\n",
            "epoch 70 | loss: 0.49463 | val_0_auc: 0.83456 |  1:18:29s\n",
            "epoch 71 | loss: 0.49467 | val_0_auc: 0.83399 |  1:19:36s\n",
            "epoch 72 | loss: 0.49468 | val_0_auc: 0.83365 |  1:20:42s\n",
            "epoch 73 | loss: 0.49384 | val_0_auc: 0.83426 |  1:21:50s\n",
            "epoch 74 | loss: 0.49353 | val_0_auc: 0.83411 |  1:22:57s\n",
            "epoch 75 | loss: 0.49348 | val_0_auc: 0.83407 |  1:24:04s\n",
            "epoch 76 | loss: 0.49325 | val_0_auc: 0.83427 |  1:25:11s\n",
            "epoch 77 | loss: 0.4929  | val_0_auc: 0.83462 |  1:26:16s\n",
            "epoch 78 | loss: 0.49289 | val_0_auc: 0.83379 |  1:27:22s\n",
            "epoch 79 | loss: 0.49322 | val_0_auc: 0.83402 |  1:28:29s\n",
            "epoch 80 | loss: 0.49346 | val_0_auc: 0.83449 |  1:29:36s\n",
            "epoch 81 | loss: 0.49237 | val_0_auc: 0.83463 |  1:30:43s\n",
            "epoch 82 | loss: 0.49162 | val_0_auc: 0.83465 |  1:31:50s\n",
            "epoch 83 | loss: 0.49172 | val_0_auc: 0.8343  |  1:32:57s\n",
            "epoch 84 | loss: 0.49182 | val_0_auc: 0.83495 |  1:34:04s\n",
            "epoch 85 | loss: 0.49158 | val_0_auc: 0.83479 |  1:35:11s\n",
            "epoch 86 | loss: 0.49155 | val_0_auc: 0.83428 |  1:36:17s\n",
            "epoch 87 | loss: 0.49165 | val_0_auc: 0.83402 |  1:37:25s\n",
            "epoch 88 | loss: 0.49212 | val_0_auc: 0.83471 |  1:38:33s\n",
            "epoch 89 | loss: 0.49101 | val_0_auc: 0.83516 |  1:39:40s\n",
            "epoch 90 | loss: 0.49046 | val_0_auc: 0.8352  |  1:40:47s\n",
            "epoch 91 | loss: 0.49049 | val_0_auc: 0.83471 |  1:41:56s\n",
            "epoch 92 | loss: 0.49025 | val_0_auc: 0.83507 |  1:43:05s\n",
            "epoch 93 | loss: 0.49005 | val_0_auc: 0.83464 |  1:44:14s\n",
            "epoch 94 | loss: 0.48993 | val_0_auc: 0.83484 |  1:45:25s\n",
            "epoch 95 | loss: 0.49112 | val_0_auc: 0.83529 |  1:46:35s\n",
            "epoch 96 | loss: 0.4904  | val_0_auc: 0.83527 |  1:47:43s\n",
            "epoch 97 | loss: 0.48956 | val_0_auc: 0.83498 |  1:48:50s\n",
            "epoch 98 | loss: 0.48974 | val_0_auc: 0.83563 |  1:49:57s\n",
            "epoch 99 | loss: 0.49003 | val_0_auc: 0.83567 |  1:51:03s\n",
            "Stop training because you reached max_epochs = 100 with best_epoch = 99 and best_val_0_auc = 0.83567\n"
          ]
        },
        {
          "output_type": "stream",
          "name": "stderr",
          "text": [
            "/usr/local/lib/python3.9/dist-packages/pytorch_tabnet/callbacks.py:172: UserWarning: Best weights from best epoch are automatically used!\n",
            "  warnings.warn(wrn_msg)\n"
          ]
        }
      ]
    },
    {
      "cell_type": "code",
      "source": [
        "# Calculate the accuracy on the training set\n",
        "y_train_pred = tabnet_model.predict(X_train.values)\n",
        "train_accuracy = accuracy_score(y_train, y_train_pred)\n",
        "print(f\"Training Accuracy: {train_accuracy * 100:.2f}%\")"
      ],
      "metadata": {
        "colab": {
          "base_uri": "https://localhost:8080/"
        },
        "id": "xMGHrZKvd16D",
        "outputId": "7436abd8-c2e1-4b90-a399-b815a718fd38"
      },
      "execution_count": 12,
      "outputs": [
        {
          "output_type": "stream",
          "name": "stdout",
          "text": [
            "Training Accuracy: 76.48%\n"
          ]
        }
      ]
    },
    {
      "cell_type": "markdown",
      "source": [
        "## Make predictions on the test data and evaluate the model performance\n",
        "This code uses the TabNet model that was previously trained to make predictions on the test data."
      ],
      "metadata": {
        "id": "0zYoe0ojsF8D"
      }
    },
    {
      "cell_type": "code",
      "source": [
        "# Make predictions on the test data\n",
        "y_test_pred = tabnet_model.predict(X_test.values)\n",
        "\n",
        "# Calculate the accuracy of the model on the test data\n",
        "test_accuracy = accuracy_score(y_test, y_test_pred)\n",
        "print(f\"Test Accuracy: {test_accuracy * 100:.2f}%\")"
      ],
      "metadata": {
        "colab": {
          "base_uri": "https://localhost:8080/"
        },
        "id": "kDIvG8V-sL0t",
        "outputId": "c934ff71-016f-41b6-cb1d-5d0fff713e57"
      },
      "execution_count": 13,
      "outputs": [
        {
          "output_type": "stream",
          "name": "stdout",
          "text": [
            "Test Accuracy: 75.13%\n"
          ]
        }
      ]
    }
  ]
}